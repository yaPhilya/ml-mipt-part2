{
 "cells": [
  {
   "cell_type": "markdown",
   "metadata": {},
   "source": [
    "<span style=\"font-size: 14pt\">MIPT, Applied ML, Autumn 2018</span>\n",
    "\n",
    "<span style=\"font-size: 16pt\"> Seminars #11: Recommendational Systems: Intro\n",
    "\n",
    "<span style=\"color:blue; font-size: 12pt\">Iurii Efimov </span>\n",
    "<span style=\"color:blue; font-size: 12pt; font-family: 'Verdana'\">yuri.efimov@phystech.edu</span>"
   ]
  },
  {
   "cell_type": "markdown",
   "metadata": {},
   "source": [
    "**Key words:** \n",
    "    - recommendational systems (RS), user-item matrix\n",
    "    - non-personalized RS, content-based RS, collaborative filtering\n",
    "    - top-k metrics, ranking quality, DCG, nDCG"
   ]
  },
  {
   "cell_type": "markdown",
   "metadata": {},
   "source": [
    "\n",
    "<h3> Plan </h3>\n",
    "\n",
    "  * **Recap: Basic ideas** (20 minutes)\n",
    "      - User-item matrix\n",
    "      - Features\n",
    "      - Metrics\n",
    "      \n",
    "  \n",
    "  * **Simple RS** (40 minutes)\n",
    "      - non-personalized (10 minutes)\n",
    "      - content-based (10 minutes)\n",
    "      - user-item matrix analysis (10 minutes)\n",
    "      - collaborative filtering (10 minutes)\n",
    "  \n",
    "  \n",
    "  * **RS libraries** (5 minutes)"
   ]
  },
  {
   "cell_type": "markdown",
   "metadata": {},
   "source": [
    "<h1 align=\"center\">RS basics</h1>\n",
    " \n",
    "**Ключевые понятия:**\n",
    " * $u\\in \\mathcal{U}$ - users, пользователи\n",
    " \n",
    " * $i \\in \\mathcal{I}$ - items, товары\n",
    " \n",
    " * $\\exists r_{u,i}\\in \\mathbb{R}$ - ratings, оценка товара $i$ пользователем $u$\n",
    " \n",
    " * $R = || r_{u,i} ||$ - матрица кросс-табуляции (user-item) $|U|\\times |I|$.\n",
    "\n",
    "\n",
    "**Задача:**\n",
    "Для пары (u,i) по имеющимся оценкам $\\{r_{u',i'}\\}_{u',i'}$ предсказывать степень заинтересованности $r_{u,i}$.\n",
    "\n",
    "<img src=\"./images/lady.jpg\" align=\"right\" width=\"300\" />\n",
    "\n",
    "\n",
    "**Признаки и подходы к решению:**\n",
    "\n",
    " * Non-personalized\n",
    " * Content-based\n",
    " * Collaborative filtering:\n",
    "     * User-based\n",
    "     * Item-based\n",
    " \n",
    "**Метрики:**\n",
    " * Из задач регрессии: MSE, RMSE, MAE etc.\n",
    " * Из задач классификации: accuracy, precision, recall, AUC-ROC, AUC-PRC etc.\n",
    " * TOP-K метрики: hitrate@k, precision@k, recall@k\n",
    " * Оценка качества ранжирования: DCG@k, nDCG@k\n",
    " * etc."
   ]
  },
  {
   "cell_type": "markdown",
   "metadata": {},
   "source": [
    "<h2 align=\"center\">Dataset example</h2>"
   ]
  },
  {
   "cell_type": "code",
   "execution_count": 2,
   "metadata": {},
   "outputs": [],
   "source": [
    "import numpy as np\n",
    "import pandas as pd\n",
    "from scipy.sparse import coo_matrix, csr_matrix, csc_matrix\n",
    "from sklearn.metrics.pairwise import cosine_similarity\n",
    "import matplotlib.pyplot as plt\n",
    "import seaborn as sns\n",
    "\n",
    "%matplotlib inline"
   ]
  },
  {
   "cell_type": "markdown",
   "metadata": {},
   "source": [
    "Рассмотрим один из самых известых и популярных датасетов: **MovieLens**\n",
    "\n",
    "Ссылка: https://grouplens.org/datasets/movielens/\n",
    "\n",
    "Датасет представляет из себя набор рейтингов фильмов, а также другую сопутствующую информацию: теги фильмов, ссылки на них на IMDB и тд. Датасеты есть разных размеров, мы поисследуем датасет 2016 года, в нем 20 миллионов оценок, 27000 фильмов и 138000 пользователей."
   ]
  },
  {
   "cell_type": "code",
   "execution_count": 3,
   "metadata": {},
   "outputs": [],
   "source": [
    "df = pd.read_csv(\"ml-20m/ratings.csv\")"
   ]
  },
  {
   "cell_type": "code",
   "execution_count": 4,
   "metadata": {},
   "outputs": [
    {
     "data": {
      "text/html": [
       "<div>\n",
       "<style scoped>\n",
       "    .dataframe tbody tr th:only-of-type {\n",
       "        vertical-align: middle;\n",
       "    }\n",
       "\n",
       "    .dataframe tbody tr th {\n",
       "        vertical-align: top;\n",
       "    }\n",
       "\n",
       "    .dataframe thead th {\n",
       "        text-align: right;\n",
       "    }\n",
       "</style>\n",
       "<table border=\"1\" class=\"dataframe\">\n",
       "  <thead>\n",
       "    <tr style=\"text-align: right;\">\n",
       "      <th></th>\n",
       "      <th>userId</th>\n",
       "      <th>movieId</th>\n",
       "      <th>rating</th>\n",
       "      <th>timestamp</th>\n",
       "    </tr>\n",
       "  </thead>\n",
       "  <tbody>\n",
       "    <tr>\n",
       "      <th>0</th>\n",
       "      <td>1</td>\n",
       "      <td>2</td>\n",
       "      <td>3.5</td>\n",
       "      <td>1112486027</td>\n",
       "    </tr>\n",
       "    <tr>\n",
       "      <th>1</th>\n",
       "      <td>1</td>\n",
       "      <td>29</td>\n",
       "      <td>3.5</td>\n",
       "      <td>1112484676</td>\n",
       "    </tr>\n",
       "    <tr>\n",
       "      <th>2</th>\n",
       "      <td>1</td>\n",
       "      <td>32</td>\n",
       "      <td>3.5</td>\n",
       "      <td>1112484819</td>\n",
       "    </tr>\n",
       "    <tr>\n",
       "      <th>3</th>\n",
       "      <td>1</td>\n",
       "      <td>47</td>\n",
       "      <td>3.5</td>\n",
       "      <td>1112484727</td>\n",
       "    </tr>\n",
       "    <tr>\n",
       "      <th>4</th>\n",
       "      <td>1</td>\n",
       "      <td>50</td>\n",
       "      <td>3.5</td>\n",
       "      <td>1112484580</td>\n",
       "    </tr>\n",
       "  </tbody>\n",
       "</table>\n",
       "</div>"
      ],
      "text/plain": [
       "   userId  movieId  rating   timestamp\n",
       "0       1        2     3.5  1112486027\n",
       "1       1       29     3.5  1112484676\n",
       "2       1       32     3.5  1112484819\n",
       "3       1       47     3.5  1112484727\n",
       "4       1       50     3.5  1112484580"
      ]
     },
     "execution_count": 4,
     "metadata": {},
     "output_type": "execute_result"
    }
   ],
   "source": [
    "df.head()"
   ]
  },
  {
   "cell_type": "code",
   "execution_count": 5,
   "metadata": {},
   "outputs": [
    {
     "name": "stdout",
     "output_type": "stream",
     "text": [
      "Max user id 138493\n",
      "Max item id 131262\n"
     ]
    }
   ],
   "source": [
    "print(\"Max user id\", df[\"userId\"].max())\n",
    "print(\"Max item id\", df[\"movieId\"].max())"
   ]
  },
  {
   "cell_type": "code",
   "execution_count": 6,
   "metadata": {
    "scrolled": true
   },
   "outputs": [
    {
     "name": "stdout",
     "output_type": "stream",
     "text": [
      "Unique user count 138493\n",
      "Unique movie count 26744\n"
     ]
    }
   ],
   "source": [
    "print(\"Unique user count\", len(df[\"userId\"].unique()))\n",
    "print(\"Unique movie count\", len(df[\"movieId\"].unique()))"
   ]
  },
  {
   "cell_type": "markdown",
   "metadata": {},
   "source": [
    "Номера фильмов идут не подряд, для удобства перенумеруем фильмы по порядку"
   ]
  },
  {
   "cell_type": "code",
   "execution_count": 7,
   "metadata": {},
   "outputs": [],
   "source": [
    "index_to_item_id_mapping = [x for x in df[\"movieId\"].sort_values().unique()]\n",
    "item_id_to_index_mapping = {}\n",
    "for index, value in enumerate(index_to_item_id_mapping, start=1):\n",
    "    item_id_to_index_mapping[int(value)] = index\n",
    "\n",
    "assert len(index_to_item_id_mapping) == 26744"
   ]
  },
  {
   "cell_type": "code",
   "execution_count": 8,
   "metadata": {},
   "outputs": [],
   "source": [
    "df = pd.DataFrame.from_records(\n",
    "    {\"userId\": row.userId, \"movieId\": item_id_to_index_mapping[int(row.movieId)], \"rating\": row.rating}\n",
    "    for row in df.itertuples())"
   ]
  },
  {
   "cell_type": "code",
   "execution_count": 9,
   "metadata": {},
   "outputs": [
    {
     "data": {
      "text/plain": [
       "(20000263, 3)"
      ]
     },
     "execution_count": 9,
     "metadata": {},
     "output_type": "execute_result"
    }
   ],
   "source": [
    "df.shape"
   ]
  },
  {
   "cell_type": "markdown",
   "metadata": {},
   "source": [
    "Как говорилось на лекции, центральный предмет изучения в рекомендательных системах это матрица user-item.\n",
    "\n",
    "Разреженность большая: 20000263 / (138493 * 26744) = 0.005\n",
    "\n",
    "Если восстанавливать ее всю, то это ~ 138493 x 26744 x 4 (размер float) = 13 gb."
   ]
  },
  {
   "cell_type": "code",
   "execution_count": 10,
   "metadata": {},
   "outputs": [],
   "source": [
    "# cross-validation \n",
    "def run_cv(predictor_class, fold_count=5, top_size=10):\n",
    "    users = list(range(len(df[\"userId\"].unique())))\n",
    "    fold_size = len(users) // fold_count\n",
    "\n",
    "    results = []\n",
    "\n",
    "    for fold_start in range(fold_count):\n",
    "        fold = users[fold_start:fold_start+fold_size]\n",
    "\n",
    "        df[\"random\"] = np.random.random(size=(df.shape[0], 1))\n",
    "        idx = df.sort_values(by=\"random\") \\\n",
    "            .reset_index() \\\n",
    "            .groupby(\"userId\") \\\n",
    "            .last()[\"index\"]\n",
    "\n",
    "        mask = df.index.isin(idx) & df[\"userId\"].isin(fold)\n",
    "        train_df = df[~mask]\n",
    "        test_df = df[mask]\n",
    "\n",
    "        predictor = predictor_class(train_df, test_df, top_size)\n",
    "        \n",
    "        sum_ = 0.0\n",
    "        for row in test_df.itertuples():\n",
    "            prediction = predictor.predict(row)\n",
    "            if prediction is None:\n",
    "                continue\n",
    "                \n",
    "            sum_ += float(row.movieId in prediction)\n",
    "\n",
    "        results.append(sum_ / test_df.shape[0])\n",
    "    \n",
    "    return np.mean(results)"
   ]
  },
  {
   "cell_type": "markdown",
   "metadata": {},
   "source": [
    "<h2 align=\"center\">Simple RS: Non-personalized</h2>"
   ]
  },
  {
   "cell_type": "markdown",
   "metadata": {},
   "source": [
    "Реализуем три метода non-personalized метода рекомендаций:\n",
    "1. Будем предсказывать топ-10 наиболее популярных фильмов (популярность - число рейтингов)\n",
    "2. Будем предсказывать топ-10 наиболее рейтинговых фильмов (с самым большим средним рейтингом)\n",
    "3. Будем предсказывать топ-10 случайных фильмов (каждый раз перемешивая список при предсказании)"
   ]
  },
  {
   "cell_type": "markdown",
   "metadata": {},
   "source": [
    "Сравним эти методы по метрике HitRate с помощью CV:\n",
    "$$HR = \\frac{\\#hits}{\\#users}$$"
   ]
  },
  {
   "cell_type": "markdown",
   "metadata": {},
   "source": [
    "Первый метод, предсказываем топ-10 наиболее популярных фильмов"
   ]
  },
  {
   "cell_type": "code",
   "execution_count": 11,
   "metadata": {},
   "outputs": [],
   "source": [
    "class PopularityPredictor(object):\n",
    "    def __init__(self, train_df, test_df, top_k=10):\n",
    "        self.top_k = top_k\n",
    "        ## implement me, please\n",
    "        self.top = list(train_df\n",
    "            )\n",
    "        ##\n",
    "\n",
    "    def predict(self, row):\n",
    "        return self.top"
   ]
  },
  {
   "cell_type": "markdown",
   "metadata": {},
   "source": [
    "Второй метод, предсказываем топ-10 фильмов с наибольшим средним рейтингом"
   ]
  },
  {
   "cell_type": "code",
   "execution_count": 12,
   "metadata": {},
   "outputs": [],
   "source": [
    "class AvgRatingPredictor(object):\n",
    "    def __init__(self, train_df, test_df, top_k=10, rating_num_threshold=5):\n",
    "        group_sizes = train_df.groupby(\"movieId\").size().reset_index()\n",
    "        # не будем рассматривать фильмы, которые были редко оценены\n",
    "        blacklist = group_sizes[group_sizes[0] < rating_num_threshold].movieId\n",
    "        train_df = train_df[~train_df.movieId.isin(blacklist)]\n",
    "        ## implement me, please\n",
    "        self.top = list(train_df\n",
    "                        \n",
    "            )\n",
    "        ##\n",
    "    \n",
    "    def predict(self, row):\n",
    "        return self.top"
   ]
  },
  {
   "cell_type": "markdown",
   "metadata": {},
   "source": [
    "Третий метод, предсказываем случайные 10 фильмов"
   ]
  },
  {
   "cell_type": "code",
   "execution_count": 13,
   "metadata": {},
   "outputs": [],
   "source": [
    "class RandomPredictor(object):\n",
    "    def __init__(self, train_df, test_df, top_k=10):\n",
    "        self.top_k=top_k\n",
    "        self.movies = list(range(len(train_df[\"movieId\"].unique())))\n",
    "    \n",
    "    def predict(self, row):\n",
    "        np.random.shuffle(self.movies)\n",
    "        return self.movies[:self.top_k]"
   ]
  },
  {
   "cell_type": "markdown",
   "metadata": {},
   "source": [
    "Сравним результаты:"
   ]
  },
  {
   "cell_type": "code",
   "execution_count": 14,
   "metadata": {},
   "outputs": [
    {
     "name": "stdout",
     "output_type": "stream",
     "text": [
      "Popularity predictor: 0.0505\n",
      "Average rating predictor: 0.0133\n",
      "Random predictor: 0.0005\n",
      "Wall time: 6min 10s\n"
     ]
    }
   ],
   "source": [
    "%%time\n",
    "\n",
    "print(\"Popularity predictor: {:.4f}\".format(run_cv(PopularityPredictor)))\n",
    "print(\"Average rating predictor: {:.4f}\".format(run_cv(AvgRatingPredictor)))\n",
    "print(\"Random predictor: {:.4f}\".format(run_cv(RandomPredictor)))"
   ]
  },
  {
   "cell_type": "markdown",
   "metadata": {},
   "source": [
    "<h2 align=\"center\">Simple RS: Content-based</h2>"
   ]
  },
  {
   "cell_type": "markdown",
   "metadata": {},
   "source": [
    "Будем использовать информацию о фильмах для предсказания, а именно - жанр фильмов.\n",
    "1. Посмотрим на самые популярные жанры\n",
    "2. Внутри каждого жанра найдем топ-10 самых популярных фильмов\n",
    "3. Для каждого пользователя определим топ-3 жанров, которые он смотрит\n",
    "4. Построим простую content-based систему, предсказывая для каждого пользователя 5 самых популярных фильмов из первого по популярности жанра, 3 фильма второго по популярности жанра и 2 фильма из третьего по популярности жанра\n",
    "5. Посчитаем HitRate"
   ]
  },
  {
   "cell_type": "code",
   "execution_count": 15,
   "metadata": {},
   "outputs": [],
   "source": [
    "df_movie = pd.read_csv(\"ml-20m/movies.csv\")"
   ]
  },
  {
   "cell_type": "code",
   "execution_count": 16,
   "metadata": {},
   "outputs": [],
   "source": [
    "from collections import Counter, defaultdict\n",
    "\n",
    "genres = []\n",
    "\n",
    "for row in df_movie.itertuples():\n",
    "    genre_list = row.genres.split(\"|\")\n",
    "    genres.extend(genre_list)\n",
    "\n",
    "cntr = Counter(genres)"
   ]
  },
  {
   "cell_type": "code",
   "execution_count": 17,
   "metadata": {},
   "outputs": [
    {
     "data": {
      "text/plain": [
       "Counter({'Adventure': 2329,\n",
       "         'Animation': 1027,\n",
       "         'Children': 1139,\n",
       "         'Comedy': 8374,\n",
       "         'Fantasy': 1412,\n",
       "         'Romance': 4127,\n",
       "         'Drama': 13344,\n",
       "         'Action': 3520,\n",
       "         'Crime': 2939,\n",
       "         'Thriller': 4178,\n",
       "         'Horror': 2611,\n",
       "         'Mystery': 1514,\n",
       "         'Sci-Fi': 1743,\n",
       "         'IMAX': 196,\n",
       "         'Documentary': 2471,\n",
       "         'War': 1194,\n",
       "         'Musical': 1036,\n",
       "         'Western': 676,\n",
       "         'Film-Noir': 330,\n",
       "         '(no genres listed)': 246})"
      ]
     },
     "execution_count": 17,
     "metadata": {},
     "output_type": "execute_result"
    }
   ],
   "source": [
    "cntr"
   ]
  },
  {
   "cell_type": "code",
   "execution_count": 18,
   "metadata": {},
   "outputs": [
    {
     "data": {
      "text/plain": [
       "[('Drama', 13344),\n",
       " ('Comedy', 8374),\n",
       " ('Thriller', 4178),\n",
       " ('Romance', 4127),\n",
       " ('Action', 3520)]"
      ]
     },
     "execution_count": 18,
     "metadata": {},
     "output_type": "execute_result"
    }
   ],
   "source": [
    "cntr.most_common(5)"
   ]
  },
  {
   "cell_type": "code",
   "execution_count": 19,
   "metadata": {},
   "outputs": [
    {
     "data": {
      "image/png": "[encoded data removed]",
      "text/plain": [
       "<Figure size 1440x720 with 1 Axes>"
      ]
     },
     "metadata": {
      "needs_background": "light"
     },
     "output_type": "display_data"
    }
   ],
   "source": [
    "import matplotlib\n",
    "\n",
    "matplotlib.rcParams.update({'font.size': 28})\n",
    "\n",
    "plt.figure(figsize=(20,10))\n",
    "hist, bins = np.histogram(list(cntr.values()), bins=len(cntr))\n",
    "width = 0.7 * (bins[1] - bins[0])\n",
    "center = (bins[:-1] + bins[1:]) / 2\n",
    "\n",
    "plt.bar(center, cntr.values(), align='center', width=width, tick_label=list(cntr.keys()))\n",
    "plt.xticks(rotation=75)\n",
    "_ = plt.title('Top-level genres')"
   ]
  },
  {
   "cell_type": "code",
   "execution_count": 20,
   "metadata": {},
   "outputs": [],
   "source": [
    "df_joined = pd.merge(df, df_movie[[\"movieId\", \"genres\"]], on=\"movieId\", how=\"inner\")"
   ]
  },
  {
   "cell_type": "code",
   "execution_count": 21,
   "metadata": {},
   "outputs": [],
   "source": [
    "def genre_list(x):\n",
    "    return list(set(\"|\".join(x.tolist()).split(\"|\")))\n",
    "\n",
    "def genre_list_len(x):\n",
    "    return len(genre_list(x))\n",
    "\n",
    "def popular_genres(x):\n",
    "    return Counter(\"|\".join(x.tolist()).split(\"|\")).most_common(3)\n",
    "\n",
    "df_users = df_joined.groupby('userId').agg({'genres': [genre_list, genre_list_len, popular_genres]})"
   ]
  },
  {
   "cell_type": "code",
   "execution_count": 22,
   "metadata": {},
   "outputs": [
    {
     "data": {
      "text/html": [
       "<div>\n",
       "<style scoped>\n",
       "    .dataframe tbody tr th:only-of-type {\n",
       "        vertical-align: middle;\n",
       "    }\n",
       "\n",
       "    .dataframe tbody tr th {\n",
       "        vertical-align: top;\n",
       "    }\n",
       "\n",
       "    .dataframe thead tr th {\n",
       "        text-align: left;\n",
       "    }\n",
       "\n",
       "    .dataframe thead tr:last-of-type th {\n",
       "        text-align: right;\n",
       "    }\n",
       "</style>\n",
       "<table border=\"1\" class=\"dataframe\">\n",
       "  <thead>\n",
       "    <tr>\n",
       "      <th></th>\n",
       "      <th colspan=\"3\" halign=\"left\">genres</th>\n",
       "    </tr>\n",
       "    <tr>\n",
       "      <th></th>\n",
       "      <th>genre_list</th>\n",
       "      <th>genre_list_len</th>\n",
       "      <th>popular_genres</th>\n",
       "    </tr>\n",
       "    <tr>\n",
       "      <th>userId</th>\n",
       "      <th></th>\n",
       "      <th></th>\n",
       "      <th></th>\n",
       "    </tr>\n",
       "  </thead>\n",
       "  <tbody>\n",
       "    <tr>\n",
       "      <th>1</th>\n",
       "      <td>[Fantasy, IMAX, Action, Adventure, Film-Noir, ...</td>\n",
       "      <td>19</td>\n",
       "      <td>[(Drama, 77), (Comedy, 49), (Romance, 31)]</td>\n",
       "    </tr>\n",
       "    <tr>\n",
       "      <th>2</th>\n",
       "      <td>[Fantasy, Action, Adventure, Documentary, Chil...</td>\n",
       "      <td>17</td>\n",
       "      <td>[(Drama, 34), (Comedy, 21), (Romance, 13)]</td>\n",
       "    </tr>\n",
       "    <tr>\n",
       "      <th>3</th>\n",
       "      <td>[Fantasy, Action, Adventure, Film-Noir, Thrill...</td>\n",
       "      <td>18</td>\n",
       "      <td>[(Drama, 94), (Comedy, 55), (Thriller, 40)]</td>\n",
       "    </tr>\n",
       "    <tr>\n",
       "      <th>4</th>\n",
       "      <td>[Fantasy, IMAX, Action, Adventure, Film-Noir, ...</td>\n",
       "      <td>16</td>\n",
       "      <td>[(Drama, 13), (Comedy, 8), (Action, 8)]</td>\n",
       "    </tr>\n",
       "    <tr>\n",
       "      <th>5</th>\n",
       "      <td>[Fantasy, Action, IMAX, Adventure, Film-Noir, ...</td>\n",
       "      <td>17</td>\n",
       "      <td>[(Drama, 39), (Comedy, 25), (Romance, 16)]</td>\n",
       "    </tr>\n",
       "  </tbody>\n",
       "</table>\n",
       "</div>"
      ],
      "text/plain": [
       "                                                   genres                 \\\n",
       "                                               genre_list genre_list_len   \n",
       "userId                                                                     \n",
       "1       [Fantasy, IMAX, Action, Adventure, Film-Noir, ...             19   \n",
       "2       [Fantasy, Action, Adventure, Documentary, Chil...             17   \n",
       "3       [Fantasy, Action, Adventure, Film-Noir, Thrill...             18   \n",
       "4       [Fantasy, IMAX, Action, Adventure, Film-Noir, ...             16   \n",
       "5       [Fantasy, Action, IMAX, Adventure, Film-Noir, ...             17   \n",
       "\n",
       "                                                     \n",
       "                                     popular_genres  \n",
       "userId                                               \n",
       "1        [(Drama, 77), (Comedy, 49), (Romance, 31)]  \n",
       "2        [(Drama, 34), (Comedy, 21), (Romance, 13)]  \n",
       "3       [(Drama, 94), (Comedy, 55), (Thriller, 40)]  \n",
       "4           [(Drama, 13), (Comedy, 8), (Action, 8)]  \n",
       "5        [(Drama, 39), (Comedy, 25), (Romance, 16)]  "
      ]
     },
     "execution_count": 22,
     "metadata": {},
     "output_type": "execute_result"
    }
   ],
   "source": [
    "df_users.head()"
   ]
  },
  {
   "cell_type": "code",
   "execution_count": 23,
   "metadata": {},
   "outputs": [
    {
     "data": {
      "text/html": [
       "<div>\n",
       "<style scoped>\n",
       "    .dataframe tbody tr th:only-of-type {\n",
       "        vertical-align: middle;\n",
       "    }\n",
       "\n",
       "    .dataframe tbody tr th {\n",
       "        vertical-align: top;\n",
       "    }\n",
       "\n",
       "    .dataframe thead th {\n",
       "        text-align: right;\n",
       "    }\n",
       "</style>\n",
       "<table border=\"1\" class=\"dataframe\">\n",
       "  <thead>\n",
       "    <tr style=\"text-align: right;\">\n",
       "      <th></th>\n",
       "      <th>movieId</th>\n",
       "      <th>rating</th>\n",
       "      <th>userId</th>\n",
       "      <th>random</th>\n",
       "      <th>genres</th>\n",
       "    </tr>\n",
       "  </thead>\n",
       "  <tbody>\n",
       "    <tr>\n",
       "      <th>0</th>\n",
       "      <td>2</td>\n",
       "      <td>3.5</td>\n",
       "      <td>1</td>\n",
       "      <td>0.306778</td>\n",
       "      <td>Adventure|Children|Fantasy</td>\n",
       "    </tr>\n",
       "    <tr>\n",
       "      <th>22243</th>\n",
       "      <td>29</td>\n",
       "      <td>3.5</td>\n",
       "      <td>1</td>\n",
       "      <td>0.541975</td>\n",
       "      <td>Adventure|Drama|Fantasy|Mystery|Sci-Fi</td>\n",
       "    </tr>\n",
       "    <tr>\n",
       "      <th>30763</th>\n",
       "      <td>32</td>\n",
       "      <td>3.5</td>\n",
       "      <td>1</td>\n",
       "      <td>0.023884</td>\n",
       "      <td>Mystery|Sci-Fi|Thriller</td>\n",
       "    </tr>\n",
       "    <tr>\n",
       "      <th>75743</th>\n",
       "      <td>47</td>\n",
       "      <td>3.5</td>\n",
       "      <td>1</td>\n",
       "      <td>0.267540</td>\n",
       "      <td>Mystery|Thriller</td>\n",
       "    </tr>\n",
       "    <tr>\n",
       "      <th>118992</th>\n",
       "      <td>50</td>\n",
       "      <td>3.5</td>\n",
       "      <td>1</td>\n",
       "      <td>0.812469</td>\n",
       "      <td>Crime|Mystery|Thriller</td>\n",
       "    </tr>\n",
       "  </tbody>\n",
       "</table>\n",
       "</div>"
      ],
      "text/plain": [
       "        movieId  rating  userId    random  \\\n",
       "0             2     3.5       1  0.306778   \n",
       "22243        29     3.5       1  0.541975   \n",
       "30763        32     3.5       1  0.023884   \n",
       "75743        47     3.5       1  0.267540   \n",
       "118992       50     3.5       1  0.812469   \n",
       "\n",
       "                                        genres  \n",
       "0                   Adventure|Children|Fantasy  \n",
       "22243   Adventure|Drama|Fantasy|Mystery|Sci-Fi  \n",
       "30763                  Mystery|Sci-Fi|Thriller  \n",
       "75743                         Mystery|Thriller  \n",
       "118992                  Crime|Mystery|Thriller  "
      ]
     },
     "execution_count": 23,
     "metadata": {},
     "output_type": "execute_result"
    }
   ],
   "source": [
    "# Sanity-check, что join отработал верно\n",
    "df_joined[df_joined[\"userId\"] == 1].head()"
   ]
  },
  {
   "cell_type": "code",
   "execution_count": 24,
   "metadata": {},
   "outputs": [],
   "source": [
    "df_counts = df_joined.groupby(\"movieId\").count().reset_index()\n",
    "df_counts[\"count\"] = df_counts[\"rating\"]\n",
    "for col in (\"userId\", \"random\", \"genres\", \"rating\"):\n",
    "    del df_counts[col]"
   ]
  },
  {
   "cell_type": "code",
   "execution_count": 25,
   "metadata": {},
   "outputs": [],
   "source": [
    "result = pd.merge(df_joined, df_counts, on=\"movieId\")"
   ]
  },
  {
   "cell_type": "code",
   "execution_count": 26,
   "metadata": {},
   "outputs": [
    {
     "data": {
      "text/html": [
       "<div>\n",
       "<style scoped>\n",
       "    .dataframe tbody tr th:only-of-type {\n",
       "        vertical-align: middle;\n",
       "    }\n",
       "\n",
       "    .dataframe tbody tr th {\n",
       "        vertical-align: top;\n",
       "    }\n",
       "\n",
       "    .dataframe thead th {\n",
       "        text-align: right;\n",
       "    }\n",
       "</style>\n",
       "<table border=\"1\" class=\"dataframe\">\n",
       "  <thead>\n",
       "    <tr style=\"text-align: right;\">\n",
       "      <th></th>\n",
       "      <th>movieId</th>\n",
       "      <th>rating</th>\n",
       "      <th>userId</th>\n",
       "      <th>random</th>\n",
       "      <th>genres</th>\n",
       "      <th>count</th>\n",
       "    </tr>\n",
       "  </thead>\n",
       "  <tbody>\n",
       "    <tr>\n",
       "      <th>0</th>\n",
       "      <td>2</td>\n",
       "      <td>3.5</td>\n",
       "      <td>1</td>\n",
       "      <td>0.306778</td>\n",
       "      <td>Adventure|Children|Fantasy</td>\n",
       "      <td>22243</td>\n",
       "    </tr>\n",
       "    <tr>\n",
       "      <th>1</th>\n",
       "      <td>2</td>\n",
       "      <td>3.0</td>\n",
       "      <td>5</td>\n",
       "      <td>0.554055</td>\n",
       "      <td>Adventure|Children|Fantasy</td>\n",
       "      <td>22243</td>\n",
       "    </tr>\n",
       "    <tr>\n",
       "      <th>2</th>\n",
       "      <td>2</td>\n",
       "      <td>3.0</td>\n",
       "      <td>13</td>\n",
       "      <td>0.493669</td>\n",
       "      <td>Adventure|Children|Fantasy</td>\n",
       "      <td>22243</td>\n",
       "    </tr>\n",
       "    <tr>\n",
       "      <th>3</th>\n",
       "      <td>2</td>\n",
       "      <td>3.0</td>\n",
       "      <td>29</td>\n",
       "      <td>0.516780</td>\n",
       "      <td>Adventure|Children|Fantasy</td>\n",
       "      <td>22243</td>\n",
       "    </tr>\n",
       "    <tr>\n",
       "      <th>4</th>\n",
       "      <td>2</td>\n",
       "      <td>3.0</td>\n",
       "      <td>34</td>\n",
       "      <td>0.978628</td>\n",
       "      <td>Adventure|Children|Fantasy</td>\n",
       "      <td>22243</td>\n",
       "    </tr>\n",
       "  </tbody>\n",
       "</table>\n",
       "</div>"
      ],
      "text/plain": [
       "   movieId  rating  userId    random                      genres  count\n",
       "0        2     3.5       1  0.306778  Adventure|Children|Fantasy  22243\n",
       "1        2     3.0       5  0.554055  Adventure|Children|Fantasy  22243\n",
       "2        2     3.0      13  0.493669  Adventure|Children|Fantasy  22243\n",
       "3        2     3.0      29  0.516780  Adventure|Children|Fantasy  22243\n",
       "4        2     3.0      34  0.978628  Adventure|Children|Fantasy  22243"
      ]
     },
     "execution_count": 26,
     "metadata": {},
     "output_type": "execute_result"
    }
   ],
   "source": [
    "result.head()"
   ]
  },
  {
   "cell_type": "code",
   "execution_count": 27,
   "metadata": {},
   "outputs": [],
   "source": [
    "genre_to_movies = defaultdict(set)\n",
    "\n",
    "for row in result.itertuples():\n",
    "    genres = row.genres.split(\"|\")\n",
    "    for genre in genres:\n",
    "        genre_to_movies[genre].add((row.movieId, row.count))"
   ]
  },
  {
   "cell_type": "code",
   "execution_count": 28,
   "metadata": {},
   "outputs": [],
   "source": [
    "genre_to_top_movies = {}\n",
    "\n",
    "for k, v in genre_to_movies.items():\n",
    "    genre_to_top_movies[k] = sorted(list(v), key=lambda p: -p[1])[:10]"
   ]
  },
  {
   "cell_type": "code",
   "execution_count": 29,
   "metadata": {},
   "outputs": [],
   "source": [
    "df_users_new = df_users.reset_index()"
   ]
  },
  {
   "cell_type": "code",
   "execution_count": 30,
   "metadata": {},
   "outputs": [],
   "source": [
    "class ContentBasedPredictor(object):\n",
    "    def __init__(self, train_df, test_df, top_size=10):\n",
    "        pass\n",
    "    \n",
    "    def predict(self, row):\n",
    "        top = list(df_users_new[df_users_new[\"userId\"] == row.userId][(\"genres\", \"popular_genres\")])\n",
    "        \n",
    "        if not top:\n",
    "            return\n",
    "        \n",
    "        top_genres = [k for k, _ in top[0]]\n",
    "        recommendations = []\n",
    "        \n",
    "        i_to_size = {0: 5, 1: 3, 2: 2}\n",
    "        for i, genre in enumerate(top_genres):\n",
    "            for movie, _ in genre_to_top_movies[genre][:i_to_size[i]]:\n",
    "                recommendations.append(movie)\n",
    "        \n",
    "        return recommendations"
   ]
  },
  {
   "cell_type": "code",
   "execution_count": 31,
   "metadata": {},
   "outputs": [
    {
     "name": "stdout",
     "output_type": "stream",
     "text": [
      "Content-based predictor: 0.043982\n",
      "Wall time: 6min 7s\n"
     ]
    }
   ],
   "source": [
    "%%time\n",
    "print(\"Content-based predictor: {:4f}\".format(run_cv(ContentBasedPredictor)))"
   ]
  },
  {
   "cell_type": "markdown",
   "metadata": {},
   "source": [
    "**Question**: В каком случае имеет смысл использовать content-based подходы?"
   ]
  },
  {
   "cell_type": "markdown",
   "metadata": {},
   "source": [
    "<h1 align=\"center\"> Simple RS: Similar movies</h1>"
   ]
  },
  {
   "cell_type": "code",
   "execution_count": 32,
   "metadata": {},
   "outputs": [],
   "source": [
    "df_links = pd.read_csv(\"ml-20m/links.csv\")\n",
    "df_movies_joined = pd.merge(df_movie, df_links, on=\"movieId\")"
   ]
  },
  {
   "cell_type": "code",
   "execution_count": 33,
   "metadata": {},
   "outputs": [],
   "source": [
    "from scipy.sparse import issparse\n",
    "\n",
    "def compute_similarity_matrix(m):\n",
    "    sim = m.T.dot(m)\n",
    "    \n",
    "    # Это должно уместиться в памяти :)\n",
    "    if issparse(sim):\n",
    "        sim = sim.todense()\n",
    "    \n",
    "    sim = sim + 1e-9\n",
    "    norms = np.array(np.sqrt(np.diagonal(sim)))\n",
    "    return sim / norms / norms.T\n",
    "\n",
    "def find_top_similar_movies(movie_id, similarity_matrix, k=10):\n",
    "    indices = np.asarray(np.argsort(similarity_matrix[movie_id, :])).reshape(-1)[-k:-1]\n",
    "    transformed_indices = [index_to_item_id_mapping[z] for z in indices]\n",
    "    return df_movies_joined[df_movies_joined[\"movieId\"].isin(transformed_indices)]"
   ]
  },
  {
   "cell_type": "markdown",
   "metadata": {},
   "source": [
    "Воспользуемся для матрицы user-item sparse-представлением"
   ]
  },
  {
   "cell_type": "code",
   "execution_count": 34,
   "metadata": {},
   "outputs": [],
   "source": [
    "M = csc_matrix(\n",
    "    (df[\"rating\"], (df[\"userId\"] - 1, df[\"movieId\"] - 1)))"
   ]
  },
  {
   "cell_type": "markdown",
   "metadata": {},
   "source": [
    "Для метрики сходства используем cosine similarity."
   ]
  },
  {
   "cell_type": "code",
   "execution_count": 35,
   "metadata": {},
   "outputs": [],
   "source": [
    "cs = cosine_similarity(M.T)"
   ]
  },
  {
   "cell_type": "markdown",
   "metadata": {},
   "source": [
    "**Question**: Что ещё можно использовать здесь, вместо cosine_similarity?"
   ]
  },
  {
   "cell_type": "code",
   "execution_count": 36,
   "metadata": {},
   "outputs": [],
   "source": [
    "import requests\n",
    "from IPython.display import Image, display\n",
    "\n",
    "# Инструкция как получить свой токен: https://developers.themoviedb.org/3/getting-started/introduction\n",
    "API_KEY = \"5b6cf33b91eb09338d2d7816329f52fc\"\n",
    "TMDB_URL = \"https://api.themoviedb.org/3/movie/{}/images?api_key={}\"\n",
    "\n",
    "cfg = requests.get(\"http://api.themoviedb.org/3/configuration\",\n",
    "                   params={\"api_key\": API_KEY}, headers={\"Content-Type\": \"application/json\"})\n",
    "cfg.raise_for_status()\n",
    "cfg_json = cfg.json()\n",
    "\n",
    "base_url = cfg_json[\"images\"][\"base_url\"] + \"w185\"\n",
    "\n",
    "def get_top_similar_movies_posters(similar_movies_df):\n",
    "    posters = []\n",
    "\n",
    "    for movie in similar_movies_df.itertuples():\n",
    "        url = TMDB_URL.format(int(movie.tmdbId), API_KEY)\n",
    "        rsp = requests.get(url)\n",
    "        rsp.raise_for_status()\n",
    "        info = rsp.json()\n",
    "\n",
    "        poster = info[\"posters\"][0][\"file_path\"]\n",
    "        posters.append(Image(url=base_url + poster))\n",
    "    \n",
    "    return posters"
   ]
  },
  {
   "cell_type": "markdown",
   "metadata": {},
   "source": [
    "Найдём фильмы, похожие на фильм с id=0 (История игрушек)"
   ]
  },
  {
   "cell_type": "code",
   "execution_count": 37,
   "metadata": {},
   "outputs": [],
   "source": [
    "similar_movies = find_top_similar_movies(0, cs) "
   ]
  },
  {
   "cell_type": "code",
   "execution_count": 38,
   "metadata": {},
   "outputs": [
    {
     "data": {
      "text/html": [
       "<div>\n",
       "<style scoped>\n",
       "    .dataframe tbody tr th:only-of-type {\n",
       "        vertical-align: middle;\n",
       "    }\n",
       "\n",
       "    .dataframe tbody tr th {\n",
       "        vertical-align: top;\n",
       "    }\n",
       "\n",
       "    .dataframe thead th {\n",
       "        text-align: right;\n",
       "    }\n",
       "</style>\n",
       "<table border=\"1\" class=\"dataframe\">\n",
       "  <thead>\n",
       "    <tr style=\"text-align: right;\">\n",
       "      <th></th>\n",
       "      <th>movieId</th>\n",
       "      <th>title</th>\n",
       "      <th>genres</th>\n",
       "      <th>imdbId</th>\n",
       "      <th>tmdbId</th>\n",
       "    </tr>\n",
       "  </thead>\n",
       "  <tbody>\n",
       "    <tr>\n",
       "      <th>257</th>\n",
       "      <td>260</td>\n",
       "      <td>Star Wars: Episode IV - A New Hope (1977)</td>\n",
       "      <td>Action|Adventure|Sci-Fi</td>\n",
       "      <td>76759</td>\n",
       "      <td>11.0</td>\n",
       "    </tr>\n",
       "    <tr>\n",
       "      <th>352</th>\n",
       "      <td>356</td>\n",
       "      <td>Forrest Gump (1994)</td>\n",
       "      <td>Comedy|Drama|Romance|War</td>\n",
       "      <td>109830</td>\n",
       "      <td>13.0</td>\n",
       "    </tr>\n",
       "    <tr>\n",
       "      <th>476</th>\n",
       "      <td>480</td>\n",
       "      <td>Jurassic Park (1993)</td>\n",
       "      <td>Action|Adventure|Sci-Fi|Thriller</td>\n",
       "      <td>107290</td>\n",
       "      <td>329.0</td>\n",
       "    </tr>\n",
       "    <tr>\n",
       "      <th>582</th>\n",
       "      <td>588</td>\n",
       "      <td>Aladdin (1992)</td>\n",
       "      <td>Adventure|Animation|Children|Comedy|Musical</td>\n",
       "      <td>103639</td>\n",
       "      <td>812.0</td>\n",
       "    </tr>\n",
       "    <tr>\n",
       "      <th>640</th>\n",
       "      <td>648</td>\n",
       "      <td>Mission: Impossible (1996)</td>\n",
       "      <td>Action|Adventure|Mystery|Thriller</td>\n",
       "      <td>117060</td>\n",
       "      <td>954.0</td>\n",
       "    </tr>\n",
       "    <tr>\n",
       "      <th>767</th>\n",
       "      <td>780</td>\n",
       "      <td>Independence Day (a.k.a. ID4) (1996)</td>\n",
       "      <td>Action|Adventure|Sci-Fi|Thriller</td>\n",
       "      <td>116629</td>\n",
       "      <td>602.0</td>\n",
       "    </tr>\n",
       "    <tr>\n",
       "      <th>1184</th>\n",
       "      <td>1210</td>\n",
       "      <td>Star Wars: Episode VI - Return of the Jedi (1983)</td>\n",
       "      <td>Action|Adventure|Sci-Fi</td>\n",
       "      <td>86190</td>\n",
       "      <td>1892.0</td>\n",
       "    </tr>\n",
       "    <tr>\n",
       "      <th>1242</th>\n",
       "      <td>1270</td>\n",
       "      <td>Back to the Future (1985)</td>\n",
       "      <td>Adventure|Comedy|Sci-Fi</td>\n",
       "      <td>88763</td>\n",
       "      <td>105.0</td>\n",
       "    </tr>\n",
       "    <tr>\n",
       "      <th>3027</th>\n",
       "      <td>3114</td>\n",
       "      <td>Toy Story 2 (1999)</td>\n",
       "      <td>Adventure|Animation|Children|Comedy|Fantasy</td>\n",
       "      <td>120363</td>\n",
       "      <td>863.0</td>\n",
       "    </tr>\n",
       "  </tbody>\n",
       "</table>\n",
       "</div>"
      ],
      "text/plain": [
       "      movieId                                              title  \\\n",
       "257       260          Star Wars: Episode IV - A New Hope (1977)   \n",
       "352       356                                Forrest Gump (1994)   \n",
       "476       480                               Jurassic Park (1993)   \n",
       "582       588                                     Aladdin (1992)   \n",
       "640       648                         Mission: Impossible (1996)   \n",
       "767       780               Independence Day (a.k.a. ID4) (1996)   \n",
       "1184     1210  Star Wars: Episode VI - Return of the Jedi (1983)   \n",
       "1242     1270                          Back to the Future (1985)   \n",
       "3027     3114                                 Toy Story 2 (1999)   \n",
       "\n",
       "                                           genres  imdbId  tmdbId  \n",
       "257                       Action|Adventure|Sci-Fi   76759    11.0  \n",
       "352                      Comedy|Drama|Romance|War  109830    13.0  \n",
       "476              Action|Adventure|Sci-Fi|Thriller  107290   329.0  \n",
       "582   Adventure|Animation|Children|Comedy|Musical  103639   812.0  \n",
       "640             Action|Adventure|Mystery|Thriller  117060   954.0  \n",
       "767              Action|Adventure|Sci-Fi|Thriller  116629   602.0  \n",
       "1184                      Action|Adventure|Sci-Fi   86190  1892.0  \n",
       "1242                      Adventure|Comedy|Sci-Fi   88763   105.0  \n",
       "3027  Adventure|Animation|Children|Comedy|Fantasy  120363   863.0  "
      ]
     },
     "execution_count": 38,
     "metadata": {},
     "output_type": "execute_result"
    }
   ],
   "source": [
    "similar_movies"
   ]
  },
  {
   "cell_type": "code",
   "execution_count": 39,
   "metadata": {
    "scrolled": false
   },
   "outputs": [
    {
     "data": {
      "text/html": [
       "<img src=\"http://image.tmdb.org/t/p/w185/tvSlBzAdRE29bZe5yYWrJ2ds137.jpg\"/>"
      ],
      "text/plain": [
       "<IPython.core.display.Image object>"
      ]
     },
     "metadata": {},
     "output_type": "display_data"
    },
    {
     "data": {
      "text/html": [
       "<img src=\"http://image.tmdb.org/t/p/w185/z4ROnCrL77ZMzT0MsNXY5j25wS2.jpg\"/>"
      ],
      "text/plain": [
       "<IPython.core.display.Image object>"
      ]
     },
     "metadata": {},
     "output_type": "display_data"
    },
    {
     "data": {
      "text/html": [
       "<img src=\"http://image.tmdb.org/t/p/w185/c414cDeQ9b6qLPLeKmiJuLDUREJ.jpg\"/>"
      ],
      "text/plain": [
       "<IPython.core.display.Image object>"
      ]
     },
     "metadata": {},
     "output_type": "display_data"
    },
    {
     "data": {
      "text/html": [
       "<img src=\"http://image.tmdb.org/t/p/w185/7f53XAE4nPiGe9XprpGAeWHuKPw.jpg\"/>"
      ],
      "text/plain": [
       "<IPython.core.display.Image object>"
      ]
     },
     "metadata": {},
     "output_type": "display_data"
    },
    {
     "data": {
      "text/html": [
       "<img src=\"http://image.tmdb.org/t/p/w185/vmj2PzTLC6xJvshpq8SlaYE3gbd.jpg\"/>"
      ],
      "text/plain": [
       "<IPython.core.display.Image object>"
      ]
     },
     "metadata": {},
     "output_type": "display_data"
    },
    {
     "data": {
      "text/html": [
       "<img src=\"http://image.tmdb.org/t/p/w185/bqLlWZJdhrS0knfEJRkquW7L8z2.jpg\"/>"
      ],
      "text/plain": [
       "<IPython.core.display.Image object>"
      ]
     },
     "metadata": {},
     "output_type": "display_data"
    },
    {
     "data": {
      "text/html": [
       "<img src=\"http://image.tmdb.org/t/p/w185/jx5p0aHlbPXqe3AH9G15NvmWaqQ.jpg\"/>"
      ],
      "text/plain": [
       "<IPython.core.display.Image object>"
      ]
     },
     "metadata": {},
     "output_type": "display_data"
    },
    {
     "data": {
      "text/html": [
       "<img src=\"http://image.tmdb.org/t/p/w185/mzdDEuzFOPlfIHmln32JCzNtXPx.jpg\"/>"
      ],
      "text/plain": [
       "<IPython.core.display.Image object>"
      ]
     },
     "metadata": {},
     "output_type": "display_data"
    },
    {
     "data": {
      "text/html": [
       "<img src=\"http://image.tmdb.org/t/p/w185/3CmK3XurcLeUyMifCR28ibzupbB.jpg\"/>"
      ],
      "text/plain": [
       "<IPython.core.display.Image object>"
      ]
     },
     "metadata": {},
     "output_type": "display_data"
    }
   ],
   "source": [
    "display(*get_top_similar_movies_posters(similar_movies))"
   ]
  },
  {
   "cell_type": "markdown",
   "metadata": {},
   "source": [
    "Получим латентные вектора через SVD разложение"
   ]
  },
  {
   "cell_type": "code",
   "execution_count": 40,
   "metadata": {},
   "outputs": [],
   "source": [
    "from scipy.sparse.linalg import svds\n",
    "\n",
    "U, S, Vt = svds(M, k=30)\n",
    "cs_svd = cosine_similarity(Vt.T)"
   ]
  },
  {
   "cell_type": "code",
   "execution_count": 41,
   "metadata": {},
   "outputs": [],
   "source": [
    "similar_movies_svd = find_top_similar_movies(0, cs_svd)"
   ]
  },
  {
   "cell_type": "code",
   "execution_count": 42,
   "metadata": {},
   "outputs": [
    {
     "data": {
      "text/html": [
       "<div>\n",
       "<style scoped>\n",
       "    .dataframe tbody tr th:only-of-type {\n",
       "        vertical-align: middle;\n",
       "    }\n",
       "\n",
       "    .dataframe tbody tr th {\n",
       "        vertical-align: top;\n",
       "    }\n",
       "\n",
       "    .dataframe thead th {\n",
       "        text-align: right;\n",
       "    }\n",
       "</style>\n",
       "<table border=\"1\" class=\"dataframe\">\n",
       "  <thead>\n",
       "    <tr style=\"text-align: right;\">\n",
       "      <th></th>\n",
       "      <th>movieId</th>\n",
       "      <th>title</th>\n",
       "      <th>genres</th>\n",
       "      <th>imdbId</th>\n",
       "      <th>tmdbId</th>\n",
       "    </tr>\n",
       "  </thead>\n",
       "  <tbody>\n",
       "    <tr>\n",
       "      <th>105</th>\n",
       "      <td>107</td>\n",
       "      <td>Muppet Treasure Island (1996)</td>\n",
       "      <td>Adventure|Children|Comedy|Musical</td>\n",
       "      <td>117110</td>\n",
       "      <td>10874.0</td>\n",
       "    </tr>\n",
       "    <tr>\n",
       "      <th>603</th>\n",
       "      <td>609</td>\n",
       "      <td>Homeward Bound II: Lost in San Francisco (1996)</td>\n",
       "      <td>Adventure|Children</td>\n",
       "      <td>116552</td>\n",
       "      <td>25059.0</td>\n",
       "    </tr>\n",
       "    <tr>\n",
       "      <th>624</th>\n",
       "      <td>631</td>\n",
       "      <td>All Dogs Go to Heaven 2 (1996)</td>\n",
       "      <td>Adventure|Animation|Children|Fantasy|Musical|R...</td>\n",
       "      <td>115509</td>\n",
       "      <td>19042.0</td>\n",
       "    </tr>\n",
       "    <tr>\n",
       "      <th>653</th>\n",
       "      <td>661</td>\n",
       "      <td>James and the Giant Peach (1996)</td>\n",
       "      <td>Adventure|Animation|Children|Fantasy|Musical</td>\n",
       "      <td>116683</td>\n",
       "      <td>10539.0</td>\n",
       "    </tr>\n",
       "    <tr>\n",
       "      <th>699</th>\n",
       "      <td>711</td>\n",
       "      <td>Flipper (1996)</td>\n",
       "      <td>Adventure|Children</td>\n",
       "      <td>116322</td>\n",
       "      <td>36355.0</td>\n",
       "    </tr>\n",
       "    <tr>\n",
       "      <th>813</th>\n",
       "      <td>828</td>\n",
       "      <td>Adventures of Pinocchio, The (1996)</td>\n",
       "      <td>Adventure|Children</td>\n",
       "      <td>115472</td>\n",
       "      <td>18975.0</td>\n",
       "    </tr>\n",
       "    <tr>\n",
       "      <th>1336</th>\n",
       "      <td>1367</td>\n",
       "      <td>101 Dalmatians (1996)</td>\n",
       "      <td>Adventure|Children|Comedy</td>\n",
       "      <td>115433</td>\n",
       "      <td>11674.0</td>\n",
       "    </tr>\n",
       "    <tr>\n",
       "      <th>2270</th>\n",
       "      <td>2355</td>\n",
       "      <td>Bug's Life, A (1998)</td>\n",
       "      <td>Adventure|Animation|Children|Comedy</td>\n",
       "      <td>120623</td>\n",
       "      <td>9487.0</td>\n",
       "    </tr>\n",
       "    <tr>\n",
       "      <th>3027</th>\n",
       "      <td>3114</td>\n",
       "      <td>Toy Story 2 (1999)</td>\n",
       "      <td>Adventure|Animation|Children|Comedy|Fantasy</td>\n",
       "      <td>120363</td>\n",
       "      <td>863.0</td>\n",
       "    </tr>\n",
       "  </tbody>\n",
       "</table>\n",
       "</div>"
      ],
      "text/plain": [
       "      movieId                                            title  \\\n",
       "105       107                    Muppet Treasure Island (1996)   \n",
       "603       609  Homeward Bound II: Lost in San Francisco (1996)   \n",
       "624       631                   All Dogs Go to Heaven 2 (1996)   \n",
       "653       661                 James and the Giant Peach (1996)   \n",
       "699       711                                   Flipper (1996)   \n",
       "813       828              Adventures of Pinocchio, The (1996)   \n",
       "1336     1367                            101 Dalmatians (1996)   \n",
       "2270     2355                             Bug's Life, A (1998)   \n",
       "3027     3114                               Toy Story 2 (1999)   \n",
       "\n",
       "                                                 genres  imdbId   tmdbId  \n",
       "105                   Adventure|Children|Comedy|Musical  117110  10874.0  \n",
       "603                                  Adventure|Children  116552  25059.0  \n",
       "624   Adventure|Animation|Children|Fantasy|Musical|R...  115509  19042.0  \n",
       "653        Adventure|Animation|Children|Fantasy|Musical  116683  10539.0  \n",
       "699                                  Adventure|Children  116322  36355.0  \n",
       "813                                  Adventure|Children  115472  18975.0  \n",
       "1336                          Adventure|Children|Comedy  115433  11674.0  \n",
       "2270                Adventure|Animation|Children|Comedy  120623   9487.0  \n",
       "3027        Adventure|Animation|Children|Comedy|Fantasy  120363    863.0  "
      ]
     },
     "execution_count": 42,
     "metadata": {},
     "output_type": "execute_result"
    }
   ],
   "source": [
    "similar_movies_svd"
   ]
  },
  {
   "cell_type": "code",
   "execution_count": 43,
   "metadata": {
    "scrolled": false
   },
   "outputs": [
    {
     "data": {
      "text/html": [
       "<img src=\"http://image.tmdb.org/t/p/w185/5A8gKzOrF9Z7tSUX6xd5dEx4NXf.jpg\"/>"
      ],
      "text/plain": [
       "<IPython.core.display.Image object>"
      ]
     },
     "metadata": {},
     "output_type": "display_data"
    },
    {
     "data": {
      "text/html": [
       "<img src=\"http://image.tmdb.org/t/p/w185/6oFXtbLt9IyoK6rdvdt0ccF6hGP.jpg\"/>"
      ],
      "text/plain": [
       "<IPython.core.display.Image object>"
      ]
     },
     "metadata": {},
     "output_type": "display_data"
    },
    {
     "data": {
      "text/html": [
       "<img src=\"http://image.tmdb.org/t/p/w185/dvdgrf98ElyJAnTGbYiW707FJ3G.jpg\"/>"
      ],
      "text/plain": [
       "<IPython.core.display.Image object>"
      ]
     },
     "metadata": {},
     "output_type": "display_data"
    },
    {
     "data": {
      "text/html": [
       "<img src=\"http://image.tmdb.org/t/p/w185/zCluHMBfVVdJBsamfiGatqslVpa.jpg\"/>"
      ],
      "text/plain": [
       "<IPython.core.display.Image object>"
      ]
     },
     "metadata": {},
     "output_type": "display_data"
    },
    {
     "data": {
      "text/html": [
       "<img src=\"http://image.tmdb.org/t/p/w185/eq1JsckI4W8m0ozFglRLPkoopkZ.jpg\"/>"
      ],
      "text/plain": [
       "<IPython.core.display.Image object>"
      ]
     },
     "metadata": {},
     "output_type": "display_data"
    },
    {
     "data": {
      "text/html": [
       "<img src=\"http://image.tmdb.org/t/p/w185/fT5b16eeBcroK6OhsmxYPTv36gQ.jpg\"/>"
      ],
      "text/plain": [
       "<IPython.core.display.Image object>"
      ]
     },
     "metadata": {},
     "output_type": "display_data"
    },
    {
     "data": {
      "text/html": [
       "<img src=\"http://image.tmdb.org/t/p/w185/zM7ZYImlJUQWQ1a8GlEPjQnKQc9.jpg\"/>"
      ],
      "text/plain": [
       "<IPython.core.display.Image object>"
      ]
     },
     "metadata": {},
     "output_type": "display_data"
    },
    {
     "data": {
      "text/html": [
       "<img src=\"http://image.tmdb.org/t/p/w185/u9qGMRwcPwP0WETxulS5hKUsEum.jpg\"/>"
      ],
      "text/plain": [
       "<IPython.core.display.Image object>"
      ]
     },
     "metadata": {},
     "output_type": "display_data"
    },
    {
     "data": {
      "text/html": [
       "<img src=\"http://image.tmdb.org/t/p/w185/3CmK3XurcLeUyMifCR28ibzupbB.jpg\"/>"
      ],
      "text/plain": [
       "<IPython.core.display.Image object>"
      ]
     },
     "metadata": {},
     "output_type": "display_data"
    }
   ],
   "source": [
    "display(*get_top_similar_movies_posters(similar_movies_svd))"
   ]
  },
  {
   "cell_type": "markdown",
   "metadata": {},
   "source": [
    "Рассмотрим другой фильм: Spider-Man"
   ]
  },
  {
   "cell_type": "code",
   "execution_count": 44,
   "metadata": {},
   "outputs": [],
   "source": [
    "similar_movies_svd_sm = find_top_similar_movies(item_id_to_index_mapping[5349] - 1, cs_svd)"
   ]
  },
  {
   "cell_type": "code",
   "execution_count": 45,
   "metadata": {},
   "outputs": [
    {
     "data": {
      "text/html": [
       "<div>\n",
       "<style scoped>\n",
       "    .dataframe tbody tr th:only-of-type {\n",
       "        vertical-align: middle;\n",
       "    }\n",
       "\n",
       "    .dataframe tbody tr th {\n",
       "        vertical-align: top;\n",
       "    }\n",
       "\n",
       "    .dataframe thead th {\n",
       "        text-align: right;\n",
       "    }\n",
       "</style>\n",
       "<table border=\"1\" class=\"dataframe\">\n",
       "  <thead>\n",
       "    <tr style=\"text-align: right;\">\n",
       "      <th></th>\n",
       "      <th>movieId</th>\n",
       "      <th>title</th>\n",
       "      <th>genres</th>\n",
       "      <th>imdbId</th>\n",
       "      <th>tmdbId</th>\n",
       "    </tr>\n",
       "  </thead>\n",
       "  <tbody>\n",
       "    <tr>\n",
       "      <th>3702</th>\n",
       "      <td>3793</td>\n",
       "      <td>X-Men (2000)</td>\n",
       "      <td>Action|Adventure|Sci-Fi</td>\n",
       "      <td>120903</td>\n",
       "      <td>36657.0</td>\n",
       "    </tr>\n",
       "    <tr>\n",
       "      <th>4800</th>\n",
       "      <td>4896</td>\n",
       "      <td>Harry Potter and the Sorcerer's Stone (a.k.a. ...</td>\n",
       "      <td>Adventure|Children|Fantasy</td>\n",
       "      <td>241527</td>\n",
       "      <td>671.0</td>\n",
       "    </tr>\n",
       "    <tr>\n",
       "      <th>4867</th>\n",
       "      <td>4963</td>\n",
       "      <td>Ocean's Eleven (2001)</td>\n",
       "      <td>Crime|Thriller</td>\n",
       "      <td>240772</td>\n",
       "      <td>161.0</td>\n",
       "    </tr>\n",
       "    <tr>\n",
       "      <th>5281</th>\n",
       "      <td>5378</td>\n",
       "      <td>Star Wars: Episode II - Attack of the Clones (...</td>\n",
       "      <td>Action|Adventure|Sci-Fi|IMAX</td>\n",
       "      <td>121765</td>\n",
       "      <td>1894.0</td>\n",
       "    </tr>\n",
       "    <tr>\n",
       "      <th>5348</th>\n",
       "      <td>5445</td>\n",
       "      <td>Minority Report (2002)</td>\n",
       "      <td>Action|Crime|Mystery|Sci-Fi|Thriller</td>\n",
       "      <td>181689</td>\n",
       "      <td>180.0</td>\n",
       "    </tr>\n",
       "    <tr>\n",
       "      <th>6234</th>\n",
       "      <td>6333</td>\n",
       "      <td>X2: X-Men United (2003)</td>\n",
       "      <td>Action|Adventure|Sci-Fi|Thriller</td>\n",
       "      <td>290334</td>\n",
       "      <td>36658.0</td>\n",
       "    </tr>\n",
       "    <tr>\n",
       "      <th>6260</th>\n",
       "      <td>6365</td>\n",
       "      <td>Matrix Reloaded, The (2003)</td>\n",
       "      <td>Action|Adventure|Sci-Fi|Thriller|IMAX</td>\n",
       "      <td>234215</td>\n",
       "      <td>604.0</td>\n",
       "    </tr>\n",
       "    <tr>\n",
       "      <th>6429</th>\n",
       "      <td>6539</td>\n",
       "      <td>Pirates of the Caribbean: The Curse of the Bla...</td>\n",
       "      <td>Action|Adventure|Comedy|Fantasy</td>\n",
       "      <td>325980</td>\n",
       "      <td>22.0</td>\n",
       "    </tr>\n",
       "    <tr>\n",
       "      <th>7953</th>\n",
       "      <td>8636</td>\n",
       "      <td>Spider-Man 2 (2004)</td>\n",
       "      <td>Action|Adventure|Sci-Fi|IMAX</td>\n",
       "      <td>316654</td>\n",
       "      <td>558.0</td>\n",
       "    </tr>\n",
       "  </tbody>\n",
       "</table>\n",
       "</div>"
      ],
      "text/plain": [
       "      movieId                                              title  \\\n",
       "3702     3793                                       X-Men (2000)   \n",
       "4800     4896  Harry Potter and the Sorcerer's Stone (a.k.a. ...   \n",
       "4867     4963                              Ocean's Eleven (2001)   \n",
       "5281     5378  Star Wars: Episode II - Attack of the Clones (...   \n",
       "5348     5445                             Minority Report (2002)   \n",
       "6234     6333                            X2: X-Men United (2003)   \n",
       "6260     6365                        Matrix Reloaded, The (2003)   \n",
       "6429     6539  Pirates of the Caribbean: The Curse of the Bla...   \n",
       "7953     8636                                Spider-Man 2 (2004)   \n",
       "\n",
       "                                     genres  imdbId   tmdbId  \n",
       "3702                Action|Adventure|Sci-Fi  120903  36657.0  \n",
       "4800             Adventure|Children|Fantasy  241527    671.0  \n",
       "4867                         Crime|Thriller  240772    161.0  \n",
       "5281           Action|Adventure|Sci-Fi|IMAX  121765   1894.0  \n",
       "5348   Action|Crime|Mystery|Sci-Fi|Thriller  181689    180.0  \n",
       "6234       Action|Adventure|Sci-Fi|Thriller  290334  36658.0  \n",
       "6260  Action|Adventure|Sci-Fi|Thriller|IMAX  234215    604.0  \n",
       "6429        Action|Adventure|Comedy|Fantasy  325980     22.0  \n",
       "7953           Action|Adventure|Sci-Fi|IMAX  316654    558.0  "
      ]
     },
     "execution_count": 45,
     "metadata": {},
     "output_type": "execute_result"
    }
   ],
   "source": [
    "similar_movies_svd_sm"
   ]
  },
  {
   "cell_type": "code",
   "execution_count": 46,
   "metadata": {
    "scrolled": false
   },
   "outputs": [
    {
     "data": {
      "text/html": [
       "<img src=\"http://image.tmdb.org/t/p/w185/hJ09SIDACUvRg3RLQRT2jUfDy7W.jpg\"/>"
      ],
      "text/plain": [
       "<IPython.core.display.Image object>"
      ]
     },
     "metadata": {},
     "output_type": "display_data"
    },
    {
     "data": {
      "text/html": [
       "<img src=\"http://image.tmdb.org/t/p/w185/xdTCNX2bhgxqbuwd5r0KbLULbcb.jpg\"/>"
      ],
      "text/plain": [
       "<IPython.core.display.Image object>"
      ]
     },
     "metadata": {},
     "output_type": "display_data"
    },
    {
     "data": {
      "text/html": [
       "<img src=\"http://image.tmdb.org/t/p/w185/o0h76DVXvk5OKjmNez5YY0GODC2.jpg\"/>"
      ],
      "text/plain": [
       "<IPython.core.display.Image object>"
      ]
     },
     "metadata": {},
     "output_type": "display_data"
    },
    {
     "data": {
      "text/html": [
       "<img src=\"http://image.tmdb.org/t/p/w185/2vcNFtrZXNwIcBgH5e2xXCmVR8t.jpg\"/>"
      ],
      "text/plain": [
       "<IPython.core.display.Image object>"
      ]
     },
     "metadata": {},
     "output_type": "display_data"
    },
    {
     "data": {
      "text/html": [
       "<img src=\"http://image.tmdb.org/t/p/w185/dS5AHLt4DhZpisxryIxKJU6Urxb.jpg\"/>"
      ],
      "text/plain": [
       "<IPython.core.display.Image object>"
      ]
     },
     "metadata": {},
     "output_type": "display_data"
    },
    {
     "data": {
      "text/html": [
       "<img src=\"http://image.tmdb.org/t/p/w185/2ucMY4dPE4gGLPgDdYgyggYHBkF.jpg\"/>"
      ],
      "text/plain": [
       "<IPython.core.display.Image object>"
      ]
     },
     "metadata": {},
     "output_type": "display_data"
    },
    {
     "data": {
      "text/html": [
       "<img src=\"http://image.tmdb.org/t/p/w185/ezIurBz2fdUc68d98Fp9dRf5ihv.jpg\"/>"
      ],
      "text/plain": [
       "<IPython.core.display.Image object>"
      ]
     },
     "metadata": {},
     "output_type": "display_data"
    },
    {
     "data": {
      "text/html": [
       "<img src=\"http://image.tmdb.org/t/p/w185/tkt9xR1kNX5R9rCebASKck44si2.jpg\"/>"
      ],
      "text/plain": [
       "<IPython.core.display.Image object>"
      ]
     },
     "metadata": {},
     "output_type": "display_data"
    },
    {
     "data": {
      "text/html": [
       "<img src=\"http://image.tmdb.org/t/p/w185/pixSKHplrTqUzxMS2K5socvtCfs.jpg\"/>"
      ],
      "text/plain": [
       "<IPython.core.display.Image object>"
      ]
     },
     "metadata": {},
     "output_type": "display_data"
    }
   ],
   "source": [
    "display(*get_top_similar_movies_posters(similar_movies_svd_sm))"
   ]
  },
  {
   "cell_type": "markdown",
   "metadata": {},
   "source": [
    "<h2 align=\"center\"> Simple RS: Collaborative Filtering</h2>"
   ]
  },
  {
   "cell_type": "code",
   "execution_count": 47,
   "metadata": {},
   "outputs": [],
   "source": [
    "class ErrorAggregator(object):\n",
    "    def __init__(self):\n",
    "        self.sum_ = 0.0\n",
    "        self.count = 0\n",
    "        \n",
    "    def add_value(self, x, count):\n",
    "        self.sum_ += x\n",
    "        self.count += count\n",
    "        \n",
    "    def get_rmse(self):\n",
    "        return np.sqrt(self.sum_ / (self.count - 1))"
   ]
  },
  {
   "cell_type": "code",
   "execution_count": 48,
   "metadata": {},
   "outputs": [
    {
     "name": "stdout",
     "output_type": "stream",
     "text": [
      "RMSE: 2.996173368869037\n",
      "Random RMSE: 3.7635227542448826\n",
      "Average evaluation time: 0.00022329209924108303\n"
     ]
    }
   ],
   "source": [
    "import time\n",
    "\n",
    "df[\"random\"] = np.random.random(size=(df.shape[0], 1))\n",
    "idx = df.sort_values(by=\"random\") \\\n",
    "    .reset_index() \\\n",
    "    .groupby(\"userId\") \\\n",
    "    .head(n=7)[\"index\"]\n",
    "\n",
    "mask = df.index.isin(idx)\n",
    "train_df = df[~mask]\n",
    "test_df = df[mask]\n",
    "    \n",
    "train_M = csr_matrix(\n",
    "    (train_df[\"rating\"], (train_df[\"userId\"] - 1, train_df[\"movieId\"] - 1)), shape=(138493, 26744))\n",
    "\n",
    "train_M_mean = train_M.mean()\n",
    "\n",
    "U, S, Vt = svds(train_M, k=30)\n",
    "\n",
    "svd_error = ErrorAggregator()\n",
    "mean_error = ErrorAggregator()\n",
    "times = []\n",
    "\n",
    "for user_id, group in test_df.groupby(\"userId\"):\n",
    "    start_time = time.time()\n",
    "    \n",
    "    uvec = U[user_id - 1, :] * S\n",
    "    \n",
    "    movie_ids = group[\"movieId\"] - 1\n",
    "    ratings = group[\"rating\"]\n",
    "    \n",
    "    diff = (uvec.dot(Vt[:, movie_ids]) - ratings.values) ** 2\n",
    "    svd_error.add_value(np.sum(diff), len(diff))\n",
    "    \n",
    "    mean_diff = (ratings.values - train_M_mean) ** 2\n",
    "    mean_error.add_value(np.sum(mean_diff), len(mean_diff))\n",
    "    \n",
    "    times.append(time.time() - start_time)\n",
    "\n",
    "print(\"RMSE:\", svd_error.get_rmse())\n",
    "print(\"Random RMSE:\", mean_error.get_rmse())\n",
    "print(\"Average evaluation time:\", np.mean(times))"
   ]
  },
  {
   "cell_type": "markdown",
   "metadata": {},
   "source": [
    "Построим рекомендации для userId=10"
   ]
  },
  {
   "cell_type": "code",
   "execution_count": 49,
   "metadata": {},
   "outputs": [
    {
     "data": {
      "text/plain": [
       "38"
      ]
     },
     "execution_count": 49,
     "metadata": {},
     "output_type": "execute_result"
    }
   ],
   "source": [
    "len(df[df[\"userId\"] == 10])"
   ]
  },
  {
   "cell_type": "code",
   "execution_count": 52,
   "metadata": {},
   "outputs": [
    {
     "data": {
      "text/html": [
       "<div>\n",
       "<style scoped>\n",
       "    .dataframe tbody tr th:only-of-type {\n",
       "        vertical-align: middle;\n",
       "    }\n",
       "\n",
       "    .dataframe tbody tr th {\n",
       "        vertical-align: top;\n",
       "    }\n",
       "\n",
       "    .dataframe thead th {\n",
       "        text-align: right;\n",
       "    }\n",
       "</style>\n",
       "<table border=\"1\" class=\"dataframe\">\n",
       "  <thead>\n",
       "    <tr style=\"text-align: right;\">\n",
       "      <th></th>\n",
       "      <th>movieId</th>\n",
       "      <th>rating</th>\n",
       "      <th>userId</th>\n",
       "      <th>random</th>\n",
       "      <th>title</th>\n",
       "      <th>genres</th>\n",
       "    </tr>\n",
       "  </thead>\n",
       "  <tbody>\n",
       "    <tr>\n",
       "      <th>0</th>\n",
       "      <td>1</td>\n",
       "      <td>4.0</td>\n",
       "      <td>10</td>\n",
       "      <td>0.983422</td>\n",
       "      <td>Toy Story (1995)</td>\n",
       "      <td>Adventure|Animation|Children|Comedy|Fantasy</td>\n",
       "    </tr>\n",
       "    <tr>\n",
       "      <th>1</th>\n",
       "      <td>11</td>\n",
       "      <td>4.0</td>\n",
       "      <td>10</td>\n",
       "      <td>0.452083</td>\n",
       "      <td>American President, The (1995)</td>\n",
       "      <td>Comedy|Drama|Romance</td>\n",
       "    </tr>\n",
       "    <tr>\n",
       "      <th>2</th>\n",
       "      <td>25</td>\n",
       "      <td>4.0</td>\n",
       "      <td>10</td>\n",
       "      <td>0.245786</td>\n",
       "      <td>Leaving Las Vegas (1995)</td>\n",
       "      <td>Drama|Romance</td>\n",
       "    </tr>\n",
       "    <tr>\n",
       "      <th>3</th>\n",
       "      <td>258</td>\n",
       "      <td>4.0</td>\n",
       "      <td>10</td>\n",
       "      <td>0.096925</td>\n",
       "      <td>Kid in King Arthur's Court, A (1995)</td>\n",
       "      <td>Adventure|Children|Comedy|Fantasy|Romance</td>\n",
       "    </tr>\n",
       "    <tr>\n",
       "      <th>4</th>\n",
       "      <td>353</td>\n",
       "      <td>3.0</td>\n",
       "      <td>10</td>\n",
       "      <td>0.548313</td>\n",
       "      <td>Crow, The (1994)</td>\n",
       "      <td>Action|Crime|Fantasy|Thriller</td>\n",
       "    </tr>\n",
       "    <tr>\n",
       "      <th>5</th>\n",
       "      <td>524</td>\n",
       "      <td>5.0</td>\n",
       "      <td>10</td>\n",
       "      <td>0.479627</td>\n",
       "      <td>Rudy (1993)</td>\n",
       "      <td>Drama</td>\n",
       "    </tr>\n",
       "    <tr>\n",
       "      <th>6</th>\n",
       "      <td>844</td>\n",
       "      <td>5.0</td>\n",
       "      <td>10</td>\n",
       "      <td>0.128514</td>\n",
       "      <td>Story of Xinghua, The (Xinghua san yue tian) (...</td>\n",
       "      <td>Drama</td>\n",
       "    </tr>\n",
       "    <tr>\n",
       "      <th>7</th>\n",
       "      <td>896</td>\n",
       "      <td>4.0</td>\n",
       "      <td>10</td>\n",
       "      <td>0.714297</td>\n",
       "      <td>Wild Reeds (Les roseaux sauvages) (1994)</td>\n",
       "      <td>Drama</td>\n",
       "    </tr>\n",
       "    <tr>\n",
       "      <th>8</th>\n",
       "      <td>953</td>\n",
       "      <td>4.0</td>\n",
       "      <td>10</td>\n",
       "      <td>0.613473</td>\n",
       "      <td>It's a Wonderful Life (1946)</td>\n",
       "      <td>Drama|Fantasy|Romance</td>\n",
       "    </tr>\n",
       "    <tr>\n",
       "      <th>9</th>\n",
       "      <td>1073</td>\n",
       "      <td>3.0</td>\n",
       "      <td>10</td>\n",
       "      <td>0.208966</td>\n",
       "      <td>Willy Wonka &amp; the Chocolate Factory (1971)</td>\n",
       "      <td>Children|Comedy|Fantasy|Musical</td>\n",
       "    </tr>\n",
       "  </tbody>\n",
       "</table>\n",
       "</div>"
      ],
      "text/plain": [
       "   movieId  rating  userId    random  \\\n",
       "0        1     4.0      10  0.983422   \n",
       "1       11     4.0      10  0.452083   \n",
       "2       25     4.0      10  0.245786   \n",
       "3      258     4.0      10  0.096925   \n",
       "4      353     3.0      10  0.548313   \n",
       "5      524     5.0      10  0.479627   \n",
       "6      844     5.0      10  0.128514   \n",
       "7      896     4.0      10  0.714297   \n",
       "8      953     4.0      10  0.613473   \n",
       "9     1073     3.0      10  0.208966   \n",
       "\n",
       "                                               title  \\\n",
       "0                                   Toy Story (1995)   \n",
       "1                     American President, The (1995)   \n",
       "2                           Leaving Las Vegas (1995)   \n",
       "3               Kid in King Arthur's Court, A (1995)   \n",
       "4                                   Crow, The (1994)   \n",
       "5                                        Rudy (1993)   \n",
       "6  Story of Xinghua, The (Xinghua san yue tian) (...   \n",
       "7           Wild Reeds (Les roseaux sauvages) (1994)   \n",
       "8                       It's a Wonderful Life (1946)   \n",
       "9         Willy Wonka & the Chocolate Factory (1971)   \n",
       "\n",
       "                                        genres  \n",
       "0  Adventure|Animation|Children|Comedy|Fantasy  \n",
       "1                         Comedy|Drama|Romance  \n",
       "2                                Drama|Romance  \n",
       "3    Adventure|Children|Comedy|Fantasy|Romance  \n",
       "4                Action|Crime|Fantasy|Thriller  \n",
       "5                                        Drama  \n",
       "6                                        Drama  \n",
       "7                                        Drama  \n",
       "8                        Drama|Fantasy|Romance  \n",
       "9              Children|Comedy|Fantasy|Musical  "
      ]
     },
     "execution_count": 52,
     "metadata": {},
     "output_type": "execute_result"
    }
   ],
   "source": [
    "tenth_user_movies = pd.merge(df[df[\"userId\"] == 10], df_movie, on=\"movieId\")\n",
    "tenth_user_movies.head(10)"
   ]
  },
  {
   "cell_type": "code",
   "execution_count": 53,
   "metadata": {},
   "outputs": [],
   "source": [
    "t = (U[9, :] * S).dot(Vt)"
   ]
  },
  {
   "cell_type": "code",
   "execution_count": 54,
   "metadata": {},
   "outputs": [],
   "source": [
    "recommendations = np.argsort(t).tolist()"
   ]
  },
  {
   "cell_type": "code",
   "execution_count": 56,
   "metadata": {},
   "outputs": [],
   "source": [
    "films = []\n",
    "\n",
    "for r in recommendations[-100:]:\n",
    "    if r + 1 not in tenth_user_movies[\"movieId\"].values:  # Не рекомендуем то, что пользователь уже смотрел\n",
    "        films.append(r)\n",
    "\n",
    "filtered_movies = df_movies_joined[df_movies_joined[\"movieId\"].isin([index_to_item_id_mapping[x] for x in films])]"
   ]
  },
  {
   "cell_type": "code",
   "execution_count": 57,
   "metadata": {
    "scrolled": true
   },
   "outputs": [
    {
     "data": {
      "text/html": [
       "<img src=\"http://image.tmdb.org/t/p/w185/gN6X3fwPya8pLffk9OEWV3DqBnE.jpg\"/>"
      ],
      "text/plain": [
       "<IPython.core.display.Image object>"
      ]
     },
     "metadata": {},
     "output_type": "display_data"
    },
    {
     "data": {
      "text/html": [
       "<img src=\"http://image.tmdb.org/t/p/w185/2qAgGeYdLjelOEqjW9FYvPHpplC.jpg\"/>"
      ],
      "text/plain": [
       "<IPython.core.display.Image object>"
      ]
     },
     "metadata": {},
     "output_type": "display_data"
    },
    {
     "data": {
      "text/html": [
       "<img src=\"http://image.tmdb.org/t/p/w185/nGcgVnsL5yLKqg2X4OZcPetsHdd.jpg\"/>"
      ],
      "text/plain": [
       "<IPython.core.display.Image object>"
      ]
     },
     "metadata": {},
     "output_type": "display_data"
    },
    {
     "data": {
      "text/html": [
       "<img src=\"http://image.tmdb.org/t/p/w185/md9kMKnLG8LG4pMDM98gy5x4K5L.jpg\"/>"
      ],
      "text/plain": [
       "<IPython.core.display.Image object>"
      ]
     },
     "metadata": {},
     "output_type": "display_data"
    },
    {
     "data": {
      "text/html": [
       "<img src=\"http://image.tmdb.org/t/p/w185/pQkk0QkzDNYWCmxeLZQVbsAlOYF.jpg\"/>"
      ],
      "text/plain": [
       "<IPython.core.display.Image object>"
      ]
     },
     "metadata": {},
     "output_type": "display_data"
    },
    {
     "data": {
      "text/html": [
       "<img src=\"http://image.tmdb.org/t/p/w185/c414cDeQ9b6qLPLeKmiJuLDUREJ.jpg\"/>"
      ],
      "text/plain": [
       "<IPython.core.display.Image object>"
      ]
     },
     "metadata": {},
     "output_type": "display_data"
    },
    {
     "data": {
      "text/html": [
       "<img src=\"http://image.tmdb.org/t/p/w185/jowem7ShDXxMd2mXq26cy5LDEHP.jpg\"/>"
      ],
      "text/plain": [
       "<IPython.core.display.Image object>"
      ]
     },
     "metadata": {},
     "output_type": "display_data"
    },
    {
     "data": {
      "text/html": [
       "<img src=\"http://image.tmdb.org/t/p/w185/afkYP15OeUOD0tFEmj6VvejuOcz.jpg\"/>"
      ],
      "text/plain": [
       "<IPython.core.display.Image object>"
      ]
     },
     "metadata": {},
     "output_type": "display_data"
    },
    {
     "data": {
      "text/html": [
       "<img src=\"http://image.tmdb.org/t/p/w185/luwQrj9C19G3T6pyZM8dNgF12V.jpg\"/>"
      ],
      "text/plain": [
       "<IPython.core.display.Image object>"
      ]
     },
     "metadata": {},
     "output_type": "display_data"
    },
    {
     "data": {
      "text/html": [
       "<img src=\"http://image.tmdb.org/t/p/w185/2y4dmgWYRMYXdD1UyJVcn2HSd1D.jpg\"/>"
      ],
      "text/plain": [
       "<IPython.core.display.Image object>"
      ]
     },
     "metadata": {},
     "output_type": "display_data"
    },
    {
     "data": {
      "text/html": [
       "<img src=\"http://image.tmdb.org/t/p/w185/uzMI1WbliKbXbjvdiDKnwb2ndsG.jpg\"/>"
      ],
      "text/plain": [
       "<IPython.core.display.Image object>"
      ]
     },
     "metadata": {},
     "output_type": "display_data"
    },
    {
     "data": {
      "text/html": [
       "<img src=\"http://image.tmdb.org/t/p/w185/qjAyTj2BSth1EQ89vNfo0JYVPFN.jpg\"/>"
      ],
      "text/plain": [
       "<IPython.core.display.Image object>"
      ]
     },
     "metadata": {},
     "output_type": "display_data"
    },
    {
     "data": {
      "text/html": [
       "<img src=\"http://image.tmdb.org/t/p/w185/fgmdaCMxXClZm2ePteLzCPySB1n.jpg\"/>"
      ],
      "text/plain": [
       "<IPython.core.display.Image object>"
      ]
     },
     "metadata": {},
     "output_type": "display_data"
    },
    {
     "data": {
      "text/html": [
       "<img src=\"http://image.tmdb.org/t/p/w185/pyEkyYgtyjOX1R9EYyUcgbK1sTn.jpg\"/>"
      ],
      "text/plain": [
       "<IPython.core.display.Image object>"
      ]
     },
     "metadata": {},
     "output_type": "display_data"
    },
    {
     "data": {
      "text/html": [
       "<img src=\"http://image.tmdb.org/t/p/w185/tviJ68Wj4glQk3CPMvdvExYHxX.jpg\"/>"
      ],
      "text/plain": [
       "<IPython.core.display.Image object>"
      ]
     },
     "metadata": {},
     "output_type": "display_data"
    },
    {
     "data": {
      "text/html": [
       "<img src=\"http://image.tmdb.org/t/p/w185/rEHP8ylmL3pcsDUEA6Z5qhajYui.jpg\"/>"
      ],
      "text/plain": [
       "<IPython.core.display.Image object>"
      ]
     },
     "metadata": {},
     "output_type": "display_data"
    },
    {
     "data": {
      "text/html": [
       "<img src=\"http://image.tmdb.org/t/p/w185/bf4o6Uzw5wqLjdKwRuiDrN1xyvl.jpg\"/>"
      ],
      "text/plain": [
       "<IPython.core.display.Image object>"
      ]
     },
     "metadata": {},
     "output_type": "display_data"
    },
    {
     "data": {
      "text/html": [
       "<img src=\"http://image.tmdb.org/t/p/w185/tKEHoKPZv3af0Pn3poaOLHOJ6NM.jpg\"/>"
      ],
      "text/plain": [
       "<IPython.core.display.Image object>"
      ]
     },
     "metadata": {},
     "output_type": "display_data"
    },
    {
     "data": {
      "text/html": [
       "<img src=\"http://image.tmdb.org/t/p/w185/fCKnw4vi8DVMKg5b8LMP8R1Eo3J.jpg\"/>"
      ],
      "text/plain": [
       "<IPython.core.display.Image object>"
      ]
     },
     "metadata": {},
     "output_type": "display_data"
    },
    {
     "data": {
      "text/html": [
       "<img src=\"http://image.tmdb.org/t/p/w185/sav0jxhqiH0bPr2vZFU0Kjt2nZL.jpg\"/>"
      ],
      "text/plain": [
       "<IPython.core.display.Image object>"
      ]
     },
     "metadata": {},
     "output_type": "display_data"
    },
    {
     "data": {
      "text/html": [
       "<img src=\"http://image.tmdb.org/t/p/w185/90T7b2LIrL07ndYQBmSm09yqVEH.jpg\"/>"
      ],
      "text/plain": [
       "<IPython.core.display.Image object>"
      ]
     },
     "metadata": {},
     "output_type": "display_data"
    },
    {
     "data": {
      "text/html": [
       "<img src=\"http://image.tmdb.org/t/p/w185/mc7MubOLcIw3MDvnuQFrO9psfCa.jpg\"/>"
      ],
      "text/plain": [
       "<IPython.core.display.Image object>"
      ]
     },
     "metadata": {},
     "output_type": "display_data"
    },
    {
     "data": {
      "text/html": [
       "<img src=\"http://image.tmdb.org/t/p/w185/cKpJnXJ6DzAGafAjUWB5PjT904O.jpg\"/>"
      ],
      "text/plain": [
       "<IPython.core.display.Image object>"
      ]
     },
     "metadata": {},
     "output_type": "display_data"
    },
    {
     "data": {
      "text/html": [
       "<img src=\"http://image.tmdb.org/t/p/w185/3tX1FJiXnk515NtRuF18PFC4CVy.jpg\"/>"
      ],
      "text/plain": [
       "<IPython.core.display.Image object>"
      ]
     },
     "metadata": {},
     "output_type": "display_data"
    },
    {
     "data": {
      "text/html": [
       "<img src=\"http://image.tmdb.org/t/p/w185/sYPOQI57JVNmjiLI3KeZ5KA8O9i.jpg\"/>"
      ],
      "text/plain": [
       "<IPython.core.display.Image object>"
      ]
     },
     "metadata": {},
     "output_type": "display_data"
    },
    {
     "data": {
      "text/html": [
       "<img src=\"http://image.tmdb.org/t/p/w185/vEaHlJljhYqYjMc7HmNEOoq3UlU.jpg\"/>"
      ],
      "text/plain": [
       "<IPython.core.display.Image object>"
      ]
     },
     "metadata": {},
     "output_type": "display_data"
    },
    {
     "data": {
      "text/html": [
       "<img src=\"http://image.tmdb.org/t/p/w185/yqaKkARc9Ku8mIENQt8bGVHaowJ.jpg\"/>"
      ],
      "text/plain": [
       "<IPython.core.display.Image object>"
      ]
     },
     "metadata": {},
     "output_type": "display_data"
    },
    {
     "data": {
      "text/html": [
       "<img src=\"http://image.tmdb.org/t/p/w185/8UockxwX2FQTpIhTd6klEioDvuz.jpg\"/>"
      ],
      "text/plain": [
       "<IPython.core.display.Image object>"
      ]
     },
     "metadata": {},
     "output_type": "display_data"
    },
    {
     "data": {
      "text/html": [
       "<img src=\"http://image.tmdb.org/t/p/w185/gpxjoE0yvRwIhFEJgNArtKtaN7S.jpg\"/>"
      ],
      "text/plain": [
       "<IPython.core.display.Image object>"
      ]
     },
     "metadata": {},
     "output_type": "display_data"
    },
    {
     "data": {
      "text/html": [
       "<img src=\"http://image.tmdb.org/t/p/w185/nORMXEkYEbzkU5WkMWMgRDJwjSZ.jpg\"/>"
      ],
      "text/plain": [
       "<IPython.core.display.Image object>"
      ]
     },
     "metadata": {},
     "output_type": "display_data"
    },
    {
     "data": {
      "text/html": [
       "<img src=\"http://image.tmdb.org/t/p/w185/wfPHdfofBD5PN96dV96a51B3Ja2.jpg\"/>"
      ],
      "text/plain": [
       "<IPython.core.display.Image object>"
      ]
     },
     "metadata": {},
     "output_type": "display_data"
    },
    {
     "data": {
      "text/html": [
       "<img src=\"http://image.tmdb.org/t/p/w185/4sHeTAp65WrSSuc05nRBKddhBxO.jpg\"/>"
      ],
      "text/plain": [
       "<IPython.core.display.Image object>"
      ]
     },
     "metadata": {},
     "output_type": "display_data"
    },
    {
     "data": {
      "text/html": [
       "<img src=\"http://image.tmdb.org/t/p/w185/gQg6sPYfNTUlf8wEtydzWl09RyR.jpg\"/>"
      ],
      "text/plain": [
       "<IPython.core.display.Image object>"
      ]
     },
     "metadata": {},
     "output_type": "display_data"
    },
    {
     "data": {
      "text/html": [
       "<img src=\"http://image.tmdb.org/t/p/w185/pwpGfTImTGifEGgLb3s6LRPd4I6.jpg\"/>"
      ],
      "text/plain": [
       "<IPython.core.display.Image object>"
      ]
     },
     "metadata": {},
     "output_type": "display_data"
    },
    {
     "data": {
      "text/html": [
       "<img src=\"http://image.tmdb.org/t/p/w185/2h00HrZs89SL3tXB4nbkiM7BKHs.jpg\"/>"
      ],
      "text/plain": [
       "<IPython.core.display.Image object>"
      ]
     },
     "metadata": {},
     "output_type": "display_data"
    },
    {
     "data": {
      "text/html": [
       "<img src=\"http://image.tmdb.org/t/p/w185/qodLPeeuhzSiiWkuldSrlCQGpkz.jpg\"/>"
      ],
      "text/plain": [
       "<IPython.core.display.Image object>"
      ]
     },
     "metadata": {},
     "output_type": "display_data"
    },
    {
     "data": {
      "text/html": [
       "<img src=\"http://image.tmdb.org/t/p/w185/6hesUNBkpVRqBTBw2HlTg0h8b56.jpg\"/>"
      ],
      "text/plain": [
       "<IPython.core.display.Image object>"
      ]
     },
     "metadata": {},
     "output_type": "display_data"
    },
    {
     "data": {
      "text/html": [
       "<img src=\"http://image.tmdb.org/t/p/w185/flnoqdC38mbaulAeptjynOFO7yi.jpg\"/>"
      ],
      "text/plain": [
       "<IPython.core.display.Image object>"
      ]
     },
     "metadata": {},
     "output_type": "display_data"
    },
    {
     "data": {
      "text/html": [
       "<img src=\"http://image.tmdb.org/t/p/w185/3cgzzWsUOBlNjmA5m4qs9BGkezC.jpg\"/>"
      ],
      "text/plain": [
       "<IPython.core.display.Image object>"
      ]
     },
     "metadata": {},
     "output_type": "display_data"
    },
    {
     "data": {
      "text/html": [
       "<img src=\"http://image.tmdb.org/t/p/w185/xRhHL7AHEo1J1d70qwmwQMZlEtd.jpg\"/>"
      ],
      "text/plain": [
       "<IPython.core.display.Image object>"
      ]
     },
     "metadata": {},
     "output_type": "display_data"
    },
    {
     "data": {
      "text/html": [
       "<img src=\"http://image.tmdb.org/t/p/w185/mQaM8fDQdFWwCTFp0TZG8fChlZ5.jpg\"/>"
      ],
      "text/plain": [
       "<IPython.core.display.Image object>"
      ]
     },
     "metadata": {},
     "output_type": "display_data"
    },
    {
     "data": {
      "text/html": [
       "<img src=\"http://image.tmdb.org/t/p/w185/2imWh1W3HRdKTCfmzWC9MlmYrn4.jpg\"/>"
      ],
      "text/plain": [
       "<IPython.core.display.Image object>"
      ]
     },
     "metadata": {},
     "output_type": "display_data"
    },
    {
     "data": {
      "text/html": [
       "<img src=\"http://image.tmdb.org/t/p/w185/qhy4HgUqhEbwQ1ekKTv7yEB3b0e.jpg\"/>"
      ],
      "text/plain": [
       "<IPython.core.display.Image object>"
      ]
     },
     "metadata": {},
     "output_type": "display_data"
    },
    {
     "data": {
      "text/html": [
       "<img src=\"http://image.tmdb.org/t/p/w185/slNJESItHPqp1CENEJQUPw8d7WE.jpg\"/>"
      ],
      "text/plain": [
       "<IPython.core.display.Image object>"
      ]
     },
     "metadata": {},
     "output_type": "display_data"
    },
    {
     "data": {
      "text/html": [
       "<img src=\"http://image.tmdb.org/t/p/w185/nhDMZ0992E8fZgUaRsVwBJ3xqDS.jpg\"/>"
      ],
      "text/plain": [
       "<IPython.core.display.Image object>"
      ]
     },
     "metadata": {},
     "output_type": "display_data"
    },
    {
     "data": {
      "text/html": [
       "<img src=\"http://image.tmdb.org/t/p/w185/km6qw4qUkHQRN5y2U1juM1WkBFh.jpg\"/>"
      ],
      "text/plain": [
       "<IPython.core.display.Image object>"
      ]
     },
     "metadata": {},
     "output_type": "display_data"
    },
    {
     "data": {
      "text/html": [
       "<img src=\"http://image.tmdb.org/t/p/w185/lLlQuXIW0yBCH44rSbmI5Cb6Iou.jpg\"/>"
      ],
      "text/plain": [
       "<IPython.core.display.Image object>"
      ]
     },
     "metadata": {},
     "output_type": "display_data"
    },
    {
     "data": {
      "text/html": [
       "<img src=\"http://image.tmdb.org/t/p/w185/vDwphkloD7ToaDpKASAXGgHOclN.jpg\"/>"
      ],
      "text/plain": [
       "<IPython.core.display.Image object>"
      ]
     },
     "metadata": {},
     "output_type": "display_data"
    },
    {
     "data": {
      "text/html": [
       "<img src=\"http://image.tmdb.org/t/p/w185/mcWjO3hRbOSAep1vilOxoJoHkn1.jpg\"/>"
      ],
      "text/plain": [
       "<IPython.core.display.Image object>"
      ]
     },
     "metadata": {},
     "output_type": "display_data"
    },
    {
     "data": {
      "text/html": [
       "<img src=\"http://image.tmdb.org/t/p/w185/m4WQ1dBIrEIHZNCoAjdpxwSKWyH.jpg\"/>"
      ],
      "text/plain": [
       "<IPython.core.display.Image object>"
      ]
     },
     "metadata": {},
     "output_type": "display_data"
    },
    {
     "data": {
      "text/html": [
       "<img src=\"http://image.tmdb.org/t/p/w185/z2LA8eBTSuuPC4NBhIZRNIwpimH.jpg\"/>"
      ],
      "text/plain": [
       "<IPython.core.display.Image object>"
      ]
     },
     "metadata": {},
     "output_type": "display_data"
    },
    {
     "data": {
      "text/html": [
       "<img src=\"http://image.tmdb.org/t/p/w185/g8qWglC2XXCIN8P51eCljFvCNNJ.jpg\"/>"
      ],
      "text/plain": [
       "<IPython.core.display.Image object>"
      ]
     },
     "metadata": {},
     "output_type": "display_data"
    },
    {
     "data": {
      "text/html": [
       "<img src=\"http://image.tmdb.org/t/p/w185/2z9A4FSu1YySrhhcuqkdMIXpgyN.jpg\"/>"
      ],
      "text/plain": [
       "<IPython.core.display.Image object>"
      ]
     },
     "metadata": {},
     "output_type": "display_data"
    },
    {
     "data": {
      "text/html": [
       "<img src=\"http://image.tmdb.org/t/p/w185/pzSdpgnjJi79UboweTlFDQmRq7M.jpg\"/>"
      ],
      "text/plain": [
       "<IPython.core.display.Image object>"
      ]
     },
     "metadata": {},
     "output_type": "display_data"
    },
    {
     "data": {
      "text/html": [
       "<img src=\"http://image.tmdb.org/t/p/w185/4SKq9N6qRR3hdJAlSbrEHm7XMw6.jpg\"/>"
      ],
      "text/plain": [
       "<IPython.core.display.Image object>"
      ]
     },
     "metadata": {},
     "output_type": "display_data"
    },
    {
     "data": {
      "text/html": [
       "<img src=\"http://image.tmdb.org/t/p/w185/tUQRe2VQWdiIdSjpD28w7Rm8Ccb.jpg\"/>"
      ],
      "text/plain": [
       "<IPython.core.display.Image object>"
      ]
     },
     "metadata": {},
     "output_type": "display_data"
    },
    {
     "data": {
      "text/html": [
       "<img src=\"http://image.tmdb.org/t/p/w185/dVGX58mHratAR9Fg2bS3yXZb2ay.jpg\"/>"
      ],
      "text/plain": [
       "<IPython.core.display.Image object>"
      ]
     },
     "metadata": {},
     "output_type": "display_data"
    },
    {
     "data": {
      "text/html": [
       "<img src=\"http://image.tmdb.org/t/p/w185/f24UVKq3UiQWLqGWdqjwkzgB8j8.jpg\"/>"
      ],
      "text/plain": [
       "<IPython.core.display.Image object>"
      ]
     },
     "metadata": {},
     "output_type": "display_data"
    },
    {
     "data": {
      "text/html": [
       "<img src=\"http://image.tmdb.org/t/p/w185/bqvlKYlWq2uibsuVzKTWseeccd2.jpg\"/>"
      ],
      "text/plain": [
       "<IPython.core.display.Image object>"
      ]
     },
     "metadata": {},
     "output_type": "display_data"
    },
    {
     "data": {
      "text/html": [
       "<img src=\"http://image.tmdb.org/t/p/w185/rIXzJCAvyd3Ci8ipylDQ5wUKqwh.jpg\"/>"
      ],
      "text/plain": [
       "<IPython.core.display.Image object>"
      ]
     },
     "metadata": {},
     "output_type": "display_data"
    },
    {
     "data": {
      "text/html": [
       "<img src=\"http://image.tmdb.org/t/p/w185/jq8LjngZ7XZEQge5JFTdOGMrHyZ.jpg\"/>"
      ],
      "text/plain": [
       "<IPython.core.display.Image object>"
      ]
     },
     "metadata": {},
     "output_type": "display_data"
    },
    {
     "data": {
      "text/html": [
       "<img src=\"http://image.tmdb.org/t/p/w185/xwDi4wF0I1L5bSW08Y8GocDGjJP.jpg\"/>"
      ],
      "text/plain": [
       "<IPython.core.display.Image object>"
      ]
     },
     "metadata": {},
     "output_type": "display_data"
    },
    {
     "data": {
      "text/html": [
       "<img src=\"http://image.tmdb.org/t/p/w185/i5xiwdSsrecBvO7mIfAJixeEDSg.jpg\"/>"
      ],
      "text/plain": [
       "<IPython.core.display.Image object>"
      ]
     },
     "metadata": {},
     "output_type": "display_data"
    },
    {
     "data": {
      "text/html": [
       "<img src=\"http://image.tmdb.org/t/p/w185/v6xrz4fr92KY1oNC3HsEvrsvR1n.jpg\"/>"
      ],
      "text/plain": [
       "<IPython.core.display.Image object>"
      ]
     },
     "metadata": {},
     "output_type": "display_data"
    },
    {
     "data": {
      "text/html": [
       "<img src=\"http://image.tmdb.org/t/p/w185/1hdm3Axw9LjITbApvAXBbqO58zE.jpg\"/>"
      ],
      "text/plain": [
       "<IPython.core.display.Image object>"
      ]
     },
     "metadata": {},
     "output_type": "display_data"
    },
    {
     "data": {
      "text/html": [
       "<img src=\"http://image.tmdb.org/t/p/w185/8mNn05Lm4GpcImkOMsTBA1UnZcQ.jpg\"/>"
      ],
      "text/plain": [
       "<IPython.core.display.Image object>"
      ]
     },
     "metadata": {},
     "output_type": "display_data"
    },
    {
     "data": {
      "text/html": [
       "<img src=\"http://image.tmdb.org/t/p/w185/sAN5jedynbs3pa3ww0UXQ1k0lRF.jpg\"/>"
      ],
      "text/plain": [
       "<IPython.core.display.Image object>"
      ]
     },
     "metadata": {},
     "output_type": "display_data"
    },
    {
     "data": {
      "text/html": [
       "<img src=\"http://image.tmdb.org/t/p/w185/hEpWvX6Bp79eLxY1kX5ZZJcme5U.jpg\"/>"
      ],
      "text/plain": [
       "<IPython.core.display.Image object>"
      ]
     },
     "metadata": {},
     "output_type": "display_data"
    },
    {
     "data": {
      "text/html": [
       "<img src=\"http://image.tmdb.org/t/p/w185/n8V09dDc02KsSN6Q4hC2BX6hN8X.jpg\"/>"
      ],
      "text/plain": [
       "<IPython.core.display.Image object>"
      ]
     },
     "metadata": {},
     "output_type": "display_data"
    },
    {
     "data": {
      "text/html": [
       "<img src=\"http://image.tmdb.org/t/p/w185/3UBQGKS8c1dxRnDiu5kUK6ej3pP.jpg\"/>"
      ],
      "text/plain": [
       "<IPython.core.display.Image object>"
      ]
     },
     "metadata": {},
     "output_type": "display_data"
    },
    {
     "data": {
      "text/html": [
       "<img src=\"http://image.tmdb.org/t/p/w185/r2sYC8RVVO37mSZchf8LuFPEYyP.jpg\"/>"
      ],
      "text/plain": [
       "<IPython.core.display.Image object>"
      ]
     },
     "metadata": {},
     "output_type": "display_data"
    },
    {
     "data": {
      "text/html": [
       "<img src=\"http://image.tmdb.org/t/p/w185/sFLgxvtK9vxbNq502peVJ847Owp.jpg\"/>"
      ],
      "text/plain": [
       "<IPython.core.display.Image object>"
      ]
     },
     "metadata": {},
     "output_type": "display_data"
    },
    {
     "data": {
      "text/html": [
       "<img src=\"http://image.tmdb.org/t/p/w185/6WBIzCgmDCYrqh64yDREGeDk9d3.jpg\"/>"
      ],
      "text/plain": [
       "<IPython.core.display.Image object>"
      ]
     },
     "metadata": {},
     "output_type": "display_data"
    },
    {
     "data": {
      "text/html": [
       "<img src=\"http://image.tmdb.org/t/p/w185/eOslMOtaPXgQEgVJ93U3KOLogGD.jpg\"/>"
      ],
      "text/plain": [
       "<IPython.core.display.Image object>"
      ]
     },
     "metadata": {},
     "output_type": "display_data"
    }
   ],
   "source": [
    "display(*get_top_similar_movies_posters(filtered_movies))"
   ]
  },
  {
   "cell_type": "markdown",
   "metadata": {},
   "source": [
    "## RS libraries review"
   ]
  },
  {
   "cell_type": "markdown",
   "metadata": {},
   "source": [
    "a. https://docs.scipy.org/doc/scipy/reference/sparse.html\n",
    "\n",
    "scipy.sparse и scipy.sparse.linalg.svds :)\n",
    "\n",
    "Можно делать коллаборативную фильтрацию подсчитывая svd разложение на разреженных матрицах. Примеров в интернете полно, про сам метод будет рассказано на лекциях.\n",
    "\n",
    "b. http://mendeley.github.io/mrec/\n",
    "\n",
    "Умеет подготавливать выборку, умеет считать разные популярные метрики такие как HitRate, Recall. Набор стандартных алгоритмов:\n",
    "\n",
    "kNN (user/item based)\n",
    "popularity\n",
    "SLIM, WARP, WRMF\n",
    "c. http://libfm.org/\n",
    "\n",
    "Эффективная реализация модели факторизационных машин. Алгоритмы SGD, ALS.\n",
    "\n",
    "d. GraphLab Collaborative Filtering Toolkit (https://turi.com/products/create/docs/graphlab.toolkits.recommender.html)\n",
    "\n",
    "Умеет SVD (ALS, SGD), SVD++, Weighted-ALS, non-negative matrix factorization.\n",
    "\n",
    "e. Vowpal Wabbit (https://github.com/JohnLangford/vowpal_wabbit/wiki/Matrix-factorization-example)\n",
    "\n",
    "Можно использовать разложение матрички оттуда."
   ]
  },
  {
   "cell_type": "markdown",
   "metadata": {},
   "source": [
    "## RS matrix factorization"
   ]
  },
  {
   "cell_type": "markdown",
   "metadata": {},
   "source": [
    "a. http://libfm.org/\n",
    "\n",
    "Эффективная реализация модели факторизационных машин. Алгоритмы SGD, ALS.\n",
    "\n",
    "b. GraphLab Collaborative Filtering Toolkit (https://turi.com/products/create/docs/graphlab.toolkits.recommender.html)\n",
    "\n",
    "Умеет SVD (ALS, SGD), SVD++, Weighted-ALS, non-negative matrix factorization.\n",
    "\n",
    "c. Vowpal Wabbit (https://github.com/JohnLangford/vowpal_wabbit/wiki/Matrix-factorization-example)\n",
    "\n",
    "Можно использовать разложение матрички оттуда."
   ]
  },
  {
   "cell_type": "markdown",
   "metadata": {},
   "source": [
    "## Summary"
   ]
  },
  {
   "cell_type": "markdown",
   "metadata": {},
   "source": [
    "1. Познакомились с датасетом MovieLens\n",
    "2. Построили несколько простых моделей для рекомендаций\n",
    "3. Построена рекомендательная модель для каждого фильма с помощью косинусной близости\n",
    "4. Построена рекомендательная система на основе SVD\n",
    "5. Познакомились с библиотеками для CF & MF\n",
    "6. Познакомились с распространенными библиотеками для построения рекомендательных систем"
   ]
  }
 ],
 "metadata": {
  "kernelspec": {
   "display_name": "Python 3",
   "language": "python",
   "name": "python3"
  },
  "language_info": {
   "codemirror_mode": {
    "name": "ipython",
    "version": 3
   },
   "file_extension": ".py",
   "mimetype": "text/x-python",
   "name": "python",
   "nbconvert_exporter": "python",
   "pygments_lexer": "ipython3",
   "version": "3.6.7"
  }
 },
 "nbformat": 4,
 "nbformat_minor": 2
}
