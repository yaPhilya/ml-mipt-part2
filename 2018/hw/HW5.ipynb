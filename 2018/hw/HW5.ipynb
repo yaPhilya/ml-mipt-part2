{
 "cells": [
  {
   "cell_type": "markdown",
   "metadata": {},
   "source": [
    "<span style=\"font-size: 14pt\">MIPT, Applied ML, Autumn 2018</span>\n",
    "\n",
    "<span style=\"font-size: 16pt\"> HW #5: Approximate RL homework\n",
    "\n",
    "<span style=\"color:red; font-size: 14pt;\"> Дедлайн 5.12.2018 12:00 </span>\n",
    "\n",
    "<span style=\"color:blue; font-size: 12pt\">Valentin Malykh </span>,\n",
    "<span style=\"color:blue; font-size: 12pt; font-family: 'Verdana'\">val@maly.hk</span>"
   ]
  },
  {
   "cell_type": "markdown",
   "metadata": {},
   "source": [
    "\n",
    "**Оформление дз**: \n",
    "- Выполненное задание требуется отправлять через <a href='https://goo.gl/forms/XPSIbwp7wPxB4SsI3'>форму </a>\n",
    "\n",
    "- Выполненное дз прикрепляйте в формате файла ``<фамилия>_<группа>_task<номер>.ipynb``, например: ``ivanov_594_task4.ipynb`` \n",
    "\n",
    "**Вопросы**:\n",
    "- Вопросы присылайте в канал в телеграмме ``[Fall 2018]ML Seminars``\n",
    "\n",
    "--------\n",
    "- **PS1**: Будьте внимательны при заполнении формы, когда отправляете ДЗ \n"
   ]
  },
  {
   "cell_type": "markdown",
   "metadata": {},
   "source": [
    "<h1 align=\"center\">Практическое задание (100%)</h1>\n",
    "Описание находится по ссылке: https://gist.github.com/madrugado/bbaedcb614755d47345c3c69b1b41169"
   ]
  }
 ],
 "metadata": {
  "anaconda-cloud": {},
  "kernelspec": {
   "display_name": "Python 3",
   "language": "python",
   "name": "python3"
  },
  "language_info": {
   "codemirror_mode": {
    "name": "ipython",
    "version": 3
   },
   "file_extension": ".py",
   "mimetype": "text/x-python",
   "name": "python",
   "nbconvert_exporter": "python",
   "pygments_lexer": "ipython3",
   "version": "3.6.5"
  }
 },
 "nbformat": 4,
 "nbformat_minor": 1
}
